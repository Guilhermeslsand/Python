{
  "nbformat": 4,
  "nbformat_minor": 0,
  "metadata": {
    "colab": {
      "provenance": [],
      "authorship_tag": "ABX9TyOv3gVXsdAJiOf/g94s4JRi",
      "include_colab_link": true
    },
    "kernelspec": {
      "name": "python3",
      "display_name": "Python 3"
    },
    "language_info": {
      "name": "python"
    }
  },
  "cells": [
    {
      "cell_type": "markdown",
      "metadata": {
        "id": "view-in-github",
        "colab_type": "text"
      },
      "source": [
        "<a href=\"https://colab.research.google.com/github/Guilhermeslsand/Python/blob/main/Aula_Lab_18_10_2023.ipynb\" target=\"_parent\"><img src=\"https://colab.research.google.com/assets/colab-badge.svg\" alt=\"Open In Colab\"/></a>"
      ]
    },
    {
      "cell_type": "code",
      "execution_count": 1,
      "metadata": {
        "id": "RQXxi6VwktFq"
      },
      "outputs": [],
      "source": [
        "import numpy as np\n",
        "import matplotlib.pyplot as plt"
      ]
    },
    {
      "cell_type": "code",
      "source": [
        "ordem = int(input((\"Fornecer a ordem do Sistema de Equações\")))\n",
        "A = np.zeros([ordem,ordem], dtype = 'float')\n",
        "B = np.zeros([ordem,1],dtype='float')\n"
      ],
      "metadata": {
        "colab": {
          "base_uri": "https://localhost:8080/"
        },
        "id": "EGAtAPeykyD4",
        "outputId": "79210210-ba8e-4ec9-c5dc-3ed52fc08383"
      },
      "execution_count": 4,
      "outputs": [
        {
          "name": "stdout",
          "output_type": "stream",
          "text": [
            "Fornecer a ordem do Sistema de Equações3\n"
          ]
        }
      ]
    },
    {
      "cell_type": "code",
      "source": [
        "for i in range(0,ordem):\n",
        "  for j in range(0,ordem):\n",
        "    A[i,j] = float(input(f'Elemento da possição ({i+1},{j+1}) da matriz A:'))\n",
        "for i in range(0,ordem):\n",
        "  B[i,0] = float(input(f'Elemento da possição ({i+1},1) da matriz B:'))"
      ],
      "metadata": {
        "colab": {
          "base_uri": "https://localhost:8080/"
        },
        "id": "PpSlrKvkk0Yh",
        "outputId": "72ce8d0e-a2c1-4858-e1e6-0d14417d3d0a"
      },
      "execution_count": 19,
      "outputs": [
        {
          "name": "stdout",
          "output_type": "stream",
          "text": [
            "Elemento da possição (1,1) da matriz A:-3\n",
            "Elemento da possição (1,2) da matriz A:1\n",
            "Elemento da possição (1,3) da matriz A:1\n",
            "Elemento da possição (2,1) da matriz A:-5\n",
            "Elemento da possição (2,2) da matriz A:1\n",
            "Elemento da possição (2,3) da matriz A:1\n",
            "Elemento da possição (3,1) da matriz A:2\n",
            "Elemento da possição (3,2) da matriz A:3\n",
            "Elemento da possição (3,3) da matriz A:7\n",
            "Elemento da possição (1,1) da matriz B:2\n",
            "Elemento da possição (2,1) da matriz B:5\n",
            "Elemento da possição (3,1) da matriz B:-17\n"
          ]
        }
      ]
    },
    {
      "cell_type": "code",
      "source": [
        "def gauss_jacb(A,B,tol,maxiter,x0):\n",
        "  Ac = np.copy(A)\n",
        "  Bc = np.copy(B)\n",
        "  C = np.zeros([len(A),len(A)], dtype = 'float')\n",
        "  G = np.zeros([len(B),1], dtype = 'float')\n",
        "  for i in range(len(A)):\n",
        "    for j in range(len(B)):\n",
        "      if i != j:\n",
        "        C[i,j] = (-1)*Ac[i,j]/Ac[i,i]\n",
        "    G[i] = Bc[i]/Ac[i,i]\n",
        "  erro = 1e6\n",
        "  nit = 0\n",
        "  xk = np.array(x0)\n",
        "  while erro > tol and nit < maxiter:\n",
        "    xkf = C@xk+G\n",
        "    verro = xkf - xk\n",
        "    maxdif = abs(verro[0])\n",
        "    for i in range(len(verro)):\n",
        "      if abs(verro[i]) > maxdif:\n",
        "        maxdif = abs(verro[i])\n",
        "    maxcomp = abs(xkf[0])\n",
        "    for i in range(len(xkf)):\n",
        "      if abs(verro[i]) > maxcomp:\n",
        "        maxcom = abs(xkf[i])\n",
        "    erro = maxdif/maxcomp\n",
        "    xk = np.copy(xkf)\n",
        "\n",
        "  return (xk,erro)"
      ],
      "metadata": {
        "id": "MxNzsUl0lWbf"
      },
      "execution_count": 20,
      "outputs": []
    },
    {
      "cell_type": "code",
      "source": [
        "x0 = np.array([1,1,-1])\n",
        "x0.resize(3,1)\n",
        "[resp,verro] = gauss_jacb(A,B,1,100,x0)\n",
        "plt.plot(verro)"
      ],
      "metadata": {
        "id": "l4yNyIzHm9Pi"
      },
      "execution_count": null,
      "outputs": []
    },
    {
      "cell_type": "code",
      "source": [
        "def checa_conv_linha(A,B):\n",
        "  val = 0\n",
        "  for i in range(len(A)):\n",
        "    pivo = abs(A[i,i])\n",
        "    soma = 0\n",
        "    for j in range(len(B)):\n",
        "      if i!=j:\n",
        "        soma = soma + abs(A[i,j])\n",
        "    if soma >= pivo:\n",
        "      val = 1\n",
        "    return val"
      ],
      "metadata": {
        "id": "kg0Q3F4WpM2v"
      },
      "execution_count": 10,
      "outputs": []
    },
    {
      "cell_type": "code",
      "source": [
        "aval1 = checa_conv_linha(A,B)\n",
        "if aval1 == 0:\n",
        "  print('Sistema Converge')\n",
        "else:\n",
        "  print('Sistema Diverge')"
      ],
      "metadata": {
        "colab": {
          "base_uri": "https://localhost:8080/"
        },
        "id": "R9itkdMSrfXR",
        "outputId": "dcf360f5-024b-4eac-c0a5-0a83b9c76c3b"
      },
      "execution_count": 11,
      "outputs": [
        {
          "output_type": "stream",
          "name": "stdout",
          "text": [
            "Sistema Diverge\n"
          ]
        }
      ]
    },
    {
      "cell_type": "code",
      "source": [
        "ordem = int(input((\"Fornecer a ordem do Sistema de Equações\")))\n",
        "A = np.zeros([ordem,ordem], dtype = 'float')\n",
        "B = np.zeros([ordem,1],dtype='float')\n"
      ],
      "metadata": {
        "colab": {
          "base_uri": "https://localhost:8080/"
        },
        "id": "OYTT8Kt8uHDZ",
        "outputId": "791a4c4c-c4f0-4bbc-b019-383338625787"
      },
      "execution_count": 12,
      "outputs": [
        {
          "name": "stdout",
          "output_type": "stream",
          "text": [
            "Fornecer a ordem do Sistema de Equações3\n"
          ]
        }
      ]
    },
    {
      "cell_type": "code",
      "source": [
        "for i in range(0,ordem):\n",
        "  for j in range(0,ordem):\n",
        "    A[i,j] = float(input(f'Elemento da possição ({i+1},{j+1}) da matriz A:'))\n",
        "for i in range(0,ordem):\n",
        "  B[i,0] = float(input(f'Elemento da possição ({i+1},1) da matriz B:'))"
      ],
      "metadata": {
        "colab": {
          "base_uri": "https://localhost:8080/"
        },
        "id": "Fo3AdpQluHoY",
        "outputId": "aa86de5c-3dd3-42c9-b1af-68ef4fea02b8"
      },
      "execution_count": 13,
      "outputs": [
        {
          "name": "stdout",
          "output_type": "stream",
          "text": [
            "Elemento da possição (1,1) da matriz A:5\n",
            "Elemento da possição (1,2) da matriz A:1\n",
            "Elemento da possição (1,3) da matriz A:1\n",
            "Elemento da possição (2,1) da matriz A:3\n",
            "Elemento da possição (2,2) da matriz A:4\n",
            "Elemento da possição (2,3) da matriz A:1\n",
            "Elemento da possição (3,1) da matriz A:3\n",
            "Elemento da possição (3,2) da matriz A:3\n",
            "Elemento da possição (3,3) da matriz A:6\n",
            "Elemento da possição (1,1) da matriz B:5\n",
            "Elemento da possição (2,1) da matriz B:6\n",
            "Elemento da possição (3,1) da matriz B:0\n"
          ]
        }
      ]
    },
    {
      "cell_type": "code",
      "source": [
        "def criterio_Saassenfeld(A):\n",
        "  val = 0\n",
        "  Beta = np.zeros([len(A),1],dtype='float')\n",
        "  for i in range(len(A)):\n",
        "    Beta[i] = 1\n",
        "  for i in range(len(A)):\n",
        "    soma = 0\n",
        "    for j in range(len(A)):\n",
        "      if i != j:\n",
        "        soma = soma + abs(A[i,j])*abs(Beta[j])\n",
        "        Beta[i] = soma/abs(A[i,i])\n",
        "\n",
        "  maxbeta = Beta[0]\n",
        "  for i in range(len(Beta)):\n",
        "    if Beta[i] > maxbeta:\n",
        "      maxbeta = Beta[i]\n",
        "  return maxbeta"
      ],
      "metadata": {
        "id": "QqQWhbxjrwGf"
      },
      "execution_count": 17,
      "outputs": []
    },
    {
      "cell_type": "code",
      "source": [
        "beta = criterio_Saassenfeld(A)\n",
        "print(beta)\n",
        "if beta < 1:\n",
        "  print('Sistema converge')\n",
        "else:\n",
        "  print('Sistema diverge')"
      ],
      "metadata": {
        "colab": {
          "base_uri": "https://localhost:8080/"
        },
        "id": "6skOv1DFuPIg",
        "outputId": "16ef1938-5d92-433e-b1df-4094c633cf4b"
      },
      "execution_count": 18,
      "outputs": [
        {
          "output_type": "stream",
          "name": "stdout",
          "text": [
            "[0.55]\n",
            "Sistema converge\n"
          ]
        }
      ]
    },
    {
      "cell_type": "code",
      "source": [
        "def gauss_seidel(A,B,tol,maxiter,x0):\n",
        "  Ac = np.copy(A)\n",
        "  Bc = np.copy(B)\n",
        "  C = np.zeros([len(A),len(A)], dtype = 'float')\n",
        "  G = np.zeros([len(B),1], dtype = 'float')\n",
        "  for i in range(len(A)):\n",
        "    for j in range(len(B)):\n",
        "      if i != j:\n",
        "        C[i,j] = (-1)*Ac[i,j]/Ac[i,i]\n",
        "    G[i] = Bc[i]/Ac[i,i]\n",
        "  erro = 1e6\n",
        "  nit = 0\n",
        "  xk = np.array(x0)\n",
        "  while erro > tol and nit < maxiter:\n",
        "    xk_ref = np.copy(xk)\n",
        "    xkf_ref = np.copy(xk)\n",
        "    for i in range(len(xk)):\n",
        "      xkf = C@xk+G\n",
        "      xkf_ref[i] = xkf[i]\n",
        "      xk[i] = xkf_ref[i]\n",
        "    xkf = np.copy(xkf_ref)\n",
        "    xk = np.copy(xk_ref)\n",
        "    verro = xkf - xk\n",
        "    maxdif = abs(verro[0])\n",
        "    for i in range(len(verro)):\n",
        "      if abs(verro[i]) > maxdif:\n",
        "        maxdif = abs(verro[i])\n",
        "    maxcomp = abs(xkf[0])\n",
        "    for i in range(len(xkf)):\n",
        "      if abs(verro[i]) > maxcomp:\n",
        "        maxcom = abs(xkf[i])\n",
        "    erro = maxdif/maxcomp\n",
        "    xk = np.copy(xkf)\n",
        "\n",
        "  return (xk,erro)"
      ],
      "metadata": {
        "id": "FRtO_oMDu42Z"
      },
      "execution_count": 26,
      "outputs": []
    },
    {
      "cell_type": "code",
      "source": [],
      "metadata": {
        "id": "19XhXBO-2YNM"
      },
      "execution_count": null,
      "outputs": []
    }
  ]
}