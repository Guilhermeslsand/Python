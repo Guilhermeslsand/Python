{
  "nbformat": 4,
  "nbformat_minor": 0,
  "metadata": {
    "colab": {
      "provenance": [],
      "authorship_tag": "ABX9TyMtqQD4mDD5UWTKceb3fd0X",
      "include_colab_link": true
    },
    "kernelspec": {
      "name": "python3",
      "display_name": "Python 3"
    },
    "language_info": {
      "name": "python"
    }
  },
  "cells": [
    {
      "cell_type": "markdown",
      "metadata": {
        "id": "view-in-github",
        "colab_type": "text"
      },
      "source": [
        "<a href=\"https://colab.research.google.com/github/Guilhermeslsand/Eletronica_Digital/blob/main/lab2_Metodos_Numericos.ipynb\" target=\"_parent\"><img src=\"https://colab.research.google.com/assets/colab-badge.svg\" alt=\"Open In Colab\"/></a>"
      ]
    },
    {
      "cell_type": "code",
      "execution_count": 16,
      "metadata": {
        "id": "8eouphgzK3Rw"
      },
      "outputs": [],
      "source": [
        "import matplotlib.pyplot as plt\n",
        "import math\n",
        "import numpy as np\n",
        "def f(x):\n",
        "  return math.sqrt(x)-math.cos(x)\n",
        "def bissecao(a,b,tol,maxiter):\n",
        "  fa=f(a)\n",
        "  fb=f(b)\n",
        "  xr=(a+b)/2\n",
        "  fxr=f(xr)\n",
        "  erro=1e6\n",
        "  it = 1\n",
        "  while it < maxiter and erro > tol:\n",
        "    if fa*fxr<0:\n",
        "      b=xr\n",
        "      fb=fxr\n",
        "    elif fb*fxr<0:\n",
        "      a=xr\n",
        "      fa=fxr\n",
        "    elif fxr == 0:\n",
        "      return 0\n",
        "    xra = xr\n",
        "    xr = (a+b)/2\n",
        "    print(xr)\n",
        "    fxr = f(xr)\n",
        "    erro = math.fabs(xr-xra)/math.fabs(xr)\n",
        "    it=it+1\n",
        "  return (xr,it,f(xr))"
      ]
    },
    {
      "cell_type": "code",
      "source": [
        "bissecao(0,1,0.0001,100)"
      ],
      "metadata": {
        "colab": {
          "base_uri": "https://localhost:8080/"
        },
        "id": "y-Q1zg6vX_qz",
        "outputId": "bdcff044-dc36-4f73-e8bb-9504ed9a456c"
      },
      "execution_count": 19,
      "outputs": [
        {
          "output_type": "stream",
          "name": "stdout",
          "text": [
            "0.75\n",
            "0.625\n",
            "0.6875\n",
            "0.65625\n",
            "0.640625\n",
            "0.6484375\n",
            "0.64453125\n",
            "0.642578125\n",
            "0.6416015625\n",
            "0.64208984375\n",
            "0.641845703125\n",
            "0.6417236328125\n",
            "0.64166259765625\n"
          ]
        },
        {
          "output_type": "execute_result",
          "data": {
            "text/plain": [
              "(0.64166259765625, 14, -6.330446264202205e-05)"
            ]
          },
          "metadata": {},
          "execution_count": 19
        }
      ]
    },
    {
      "cell_type": "code",
      "source": [
        "import numpy as np\n",
        "def f2(x):\n",
        "  return 5*math.sin(x**2)-math.exp(x/10)\n",
        "x=np.linspace(0,1,1000)\n",
        "y = []\n",
        "for i in x:\n",
        "  y.append(f2(i))\n",
        "plt.grid()\n",
        "plt.plot(x,y,label='Analise de f(x)')\n",
        "def encontra_intervalo(a0,xmax,h0,f2):\n",
        "  while h0 > 1e-4:\n",
        "    b0=a0+h0;\n",
        "    while b0 < xmax:\n",
        "      if f(a0)*f(b0) < 0:\n",
        "        return a0,b0\n",
        "      a0=b0\n",
        "      b0=a0+h0\n",
        "  a0=refi\n",
        "  h0=h0/10\n",
        "\n",
        "[a0,b0]=encontra_intervalo(0,3,0.01,f2)\n",
        "print(a0,b0)"
      ],
      "metadata": {
        "colab": {
          "base_uri": "https://localhost:8080/",
          "height": 447
        },
        "id": "S1xAsNZaab3B",
        "outputId": "d1b27a49-6aea-41ae-e284-25b77a91d117"
      },
      "execution_count": 32,
      "outputs": [
        {
          "output_type": "stream",
          "name": "stdout",
          "text": [
            "0.6400000000000003 0.6500000000000004\n"
          ]
        },
        {
          "output_type": "display_data",
          "data": {
            "text/plain": [
              "<Figure size 640x480 with 1 Axes>"
            ],
            "image/png": "[encoded data removed]"
          },
          "metadata": {}
        }
      ]
    }
  ]
}
