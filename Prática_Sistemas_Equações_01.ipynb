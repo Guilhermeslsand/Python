{
  "nbformat": 4,
  "nbformat_minor": 0,
  "metadata": {
    "colab": {
      "provenance": [],
      "authorship_tag": "ABX9TyPC6Ibj0mQ/R0cypJ0QVWkP",
      "include_colab_link": true
    },
    "kernelspec": {
      "name": "python3",
      "display_name": "Python 3"
    },
    "language_info": {
      "name": "python"
    }
  },
  "cells": [
    {
      "cell_type": "markdown",
      "metadata": {
        "id": "view-in-github",
        "colab_type": "text"
      },
      "source": [
        "<a href=\"https://colab.research.google.com/github/Guilhermeslsand/Python/blob/main/Pr%C3%A1tica_Sistemas_Equa%C3%A7%C3%B5es_01.ipynb\" target=\"_parent\"><img src=\"https://colab.research.google.com/assets/colab-badge.svg\" alt=\"Open In Colab\"/></a>"
      ]
    },
    {
      "cell_type": "code",
      "execution_count": 1,
      "metadata": {
        "id": "FfNrkDWHbV45"
      },
      "outputs": [],
      "source": [
        "import numpy as np\n",
        "import math\n",
        "import matplotlib.pyplot as plt"
      ]
    },
    {
      "cell_type": "code",
      "source": [
        "ordem = int(input((\"Fornecer a ordem do Sistema de Equações\")))\n",
        "A = np.zeros([ordem,ordem], dtype = 'float')\n",
        "B = np.zeros([ordem,1],dtype='float')\n"
      ],
      "metadata": {
        "colab": {
          "base_uri": "https://localhost:8080/"
        },
        "id": "FwUm6Xu0brov",
        "outputId": "01000af0-884d-4dad-9820-2cb68b9fa536"
      },
      "execution_count": 3,
      "outputs": [
        {
          "name": "stdout",
          "output_type": "stream",
          "text": [
            "Fornecer a ordem do Sistema de Equações4\n"
          ]
        }
      ]
    },
    {
      "cell_type": "code",
      "source": [
        "for i in range(0,ordem):\n",
        "  for j in range(0,ordem):\n",
        "    A[i,j] = float(input(f'Elemento da possição ({i+1},{j+1}) da matriz A:'))\n",
        "for i in range(0,ordem):\n",
        "  B[i,0] = float(input(f'Elemento da possição ({i+1},1) da matriz B:'))"
      ],
      "metadata": {
        "colab": {
          "base_uri": "https://localhost:8080/"
        },
        "id": "ysYU3Bwzcmog",
        "outputId": "f3150e05-84ba-45a1-8253-5f0a292861a0"
      },
      "execution_count": 15,
      "outputs": [
        {
          "name": "stdout",
          "output_type": "stream",
          "text": [
            "Elemento da possição (1,1) da matriz A:2\n",
            "Elemento da possição (1,2) da matriz A:0\n",
            "Elemento da possição (1,3) da matriz A:0\n",
            "Elemento da possição (1,4) da matriz A:0\n",
            "Elemento da possição (2,1) da matriz A:3\n",
            "Elemento da possição (2,2) da matriz A:5\n",
            "Elemento da possição (2,3) da matriz A:0\n",
            "Elemento da possição (2,4) da matriz A:0\n",
            "Elemento da possição (3,1) da matriz A:1\n",
            "Elemento da possição (3,2) da matriz A:-6\n",
            "Elemento da possição (3,3) da matriz A:8\n",
            "Elemento da possição (3,4) da matriz A:0\n",
            "Elemento da possição (4,1) da matriz A:-1\n",
            "Elemento da possição (4,2) da matriz A:4\n",
            "Elemento da possição (4,3) da matriz A:-3\n",
            "Elemento da possição (4,4) da matriz A:9\n",
            "Elemento da possição (1,1) da matriz B:4\n",
            "Elemento da possição (2,1) da matriz B:1\n",
            "Elemento da possição (3,1) da matriz B:48\n",
            "Elemento da possição (4,1) da matriz B:6\n"
          ]
        }
      ]
    },
    {
      "cell_type": "code",
      "source": [
        "def calcula_sol_mat(A,B):\n",
        "  xr = np.zeros([len(A),1],dtype='float')\n",
        "  idr = 0\n",
        "  while idr <len(A):\n",
        "    z = 0\n",
        "    soma = 0\n",
        "    while z < idr:\n",
        "      soma = soma+A[idr,z]*xr[z]\n",
        "      z = z + 1\n",
        "    xr[idr] = (B[idr]-soma)/A[idr,idr]\n",
        "    idr = idr + 1\n",
        "  return(xr)"
      ],
      "metadata": {
        "id": "Glqrz-fQewvf"
      },
      "execution_count": 18,
      "outputs": []
    },
    {
      "cell_type": "code",
      "source": [
        "print(calcula_sol_mat(A,B))"
      ],
      "metadata": {
        "colab": {
          "base_uri": "https://localhost:8080/"
        },
        "id": "VWXAZxazgSQe",
        "outputId": "869a79aa-2d28-4160-a4ef-75ed1f6b9206"
      },
      "execution_count": 20,
      "outputs": [
        {
          "output_type": "stream",
          "name": "stdout",
          "text": [
            "[[ 2.]\n",
            " [-1.]\n",
            " [ 5.]\n",
            " [ 3.]]\n",
            "[[ 2.  0.  0.  0.]\n",
            " [ 3.  5.  0.  0.]\n",
            " [ 1. -6.  8.  0.]\n",
            " [-1.  4. -3.  9.]]\n"
          ]
        }
      ]
    },
    {
      "cell_type": "code",
      "source": [
        "for i in range(0,ordem):\n",
        "  for j in range(0,ordem):\n",
        "    A[i,j] = float(input(f'Elemento da possição ({i+1},{j+1}) da matriz A:'))\n",
        "for i in range(0,ordem):\n",
        "  B[i,0] = float(input(f'Elemento da possição ({i+1},1) da matriz B:'))"
      ],
      "metadata": {
        "id": "PxvXp7GBiEbn"
      },
      "execution_count": null,
      "outputs": []
    },
    {
      "cell_type": "code",
      "source": [
        "def calcula_sol_mat_sup(A,B):\n",
        "  xr = np.zeros([len(A),1],dtype='float')\n",
        "  idr = len(A)-1\n",
        "  while idr >= 0:\n",
        "    z = idr\n",
        "    soma = 0\n",
        "    while z < len(A)-1:\n",
        "      soma = soma+A[idr,z]*xr[z]\n",
        "      z = z + 1\n",
        "    xr[idr] = (B[idr]-soma)/A[idr,idr]\n",
        "    idr = idr - 1\n",
        "  return(xr)"
      ],
      "metadata": {
        "id": "9bEGGN4FiGw9"
      },
      "execution_count": 29,
      "outputs": []
    },
    {
      "cell_type": "code",
      "source": [
        "print(calcula_sol_mat_sup(A,B))"
      ],
      "metadata": {
        "id": "xc9ln1joj3O7"
      },
      "execution_count": null,
      "outputs": []
    },
    {
      "cell_type": "code",
      "source": [
        "def elimina_gauss(A,B):\n",
        "  Ac= np.copy(A)\n",
        "  Bc = np.copy(B)\n",
        "  for i in range(0,len(A)-1):\n",
        "    pivo = Ac[i,i]\n",
        "    for j in (i+1,len(A)):\n",
        "      cofator = (-1)*Ac[j,i]/Ac[i,i]\n",
        "      Ac[j,:] = Ac[i,:]*cofator + Ac[j:]\n",
        "      Bc[j] = Bc[i]*cofator + Bc[j]\n",
        "  return (Ac,Bc)"
      ],
      "metadata": {
        "id": "gj6OQxs_kdAq"
      },
      "execution_count": 33,
      "outputs": []
    },
    {
      "cell_type": "code",
      "source": [
        "ordem = 3\n",
        "for i in range(0,ordem):\n",
        "  for j in range(0,ordem):\n",
        "    A[i,j] = float(input(f'Elemento da possição ({i+1},{j+1}) da matriz A:'))\n",
        "for i in range(0,ordem):\n",
        "  B[i,0] = float(input(f'Elemento da possição ({i+1},1) da matriz B:'))"
      ],
      "metadata": {
        "colab": {
          "base_uri": "https://localhost:8080/"
        },
        "outputId": "68fbdcab-b30a-49cb-df88-db0aabfcfb5b",
        "id": "eL9DtpzMmmDD"
      },
      "execution_count": 31,
      "outputs": [
        {
          "name": "stdout",
          "output_type": "stream",
          "text": [
            "Elemento da possição (1,1) da matriz A:1\n",
            "Elemento da possição (1,2) da matriz A:-3\n",
            "Elemento da possição (1,3) da matriz A:2\n",
            "Elemento da possição (2,1) da matriz A:-2\n",
            "Elemento da possição (2,2) da matriz A:8\n",
            "Elemento da possição (2,3) da matriz A:-1\n",
            "Elemento da possição (3,1) da matriz A:4\n",
            "Elemento da possição (3,2) da matriz A:-6\n",
            "Elemento da possição (3,3) da matriz A:5\n",
            "Elemento da possição (1,1) da matriz B:11\n",
            "Elemento da possição (2,1) da matriz B:-15\n",
            "Elemento da possição (3,1) da matriz B:29\n"
          ]
        }
      ]
    },
    {
      "cell_type": "code",
      "source": [
        "[At,Bt] = elimina_gauss(A,B)\n",
        "print(At)\n",
        "print(Bt)"
      ],
      "metadata": {
        "colab": {
          "base_uri": "https://localhost:8080/",
          "height": 331
        },
        "id": "glOkUqX8nE4B",
        "outputId": "1a09fb06-5397-4254-8895-b1c345b02a72"
      },
      "execution_count": 35,
      "outputs": [
        {
          "output_type": "error",
          "ename": "ValueError",
          "evalue": "ignored",
          "traceback": [
            "\u001b[0;31m---------------------------------------------------------------------------\u001b[0m",
            "\u001b[0;31mValueError\u001b[0m                                Traceback (most recent call last)",
            "\u001b[0;32m<ipython-input-35-765118d1763e>\u001b[0m in \u001b[0;36m<cell line: 1>\u001b[0;34m()\u001b[0m\n\u001b[0;32m----> 1\u001b[0;31m \u001b[0;34m[\u001b[0m\u001b[0mAt\u001b[0m\u001b[0;34m,\u001b[0m\u001b[0mBt\u001b[0m\u001b[0;34m]\u001b[0m \u001b[0;34m=\u001b[0m \u001b[0melimina_gauss\u001b[0m\u001b[0;34m(\u001b[0m\u001b[0mA\u001b[0m\u001b[0;34m,\u001b[0m\u001b[0mB\u001b[0m\u001b[0;34m)\u001b[0m\u001b[0;34m\u001b[0m\u001b[0;34m\u001b[0m\u001b[0m\n\u001b[0m\u001b[1;32m      2\u001b[0m \u001b[0mprint\u001b[0m\u001b[0;34m(\u001b[0m\u001b[0mAt\u001b[0m\u001b[0;34m)\u001b[0m\u001b[0;34m\u001b[0m\u001b[0;34m\u001b[0m\u001b[0m\n\u001b[1;32m      3\u001b[0m \u001b[0mprint\u001b[0m\u001b[0;34m(\u001b[0m\u001b[0mBt\u001b[0m\u001b[0;34m)\u001b[0m\u001b[0;34m\u001b[0m\u001b[0;34m\u001b[0m\u001b[0m\n",
            "\u001b[0;32m<ipython-input-33-9219a8893e22>\u001b[0m in \u001b[0;36melimina_gauss\u001b[0;34m(A, B)\u001b[0m\n\u001b[1;32m      6\u001b[0m     \u001b[0;32mfor\u001b[0m \u001b[0mj\u001b[0m \u001b[0;32min\u001b[0m \u001b[0;34m(\u001b[0m\u001b[0mi\u001b[0m\u001b[0;34m+\u001b[0m\u001b[0;36m1\u001b[0m\u001b[0;34m,\u001b[0m\u001b[0mlen\u001b[0m\u001b[0;34m(\u001b[0m\u001b[0mA\u001b[0m\u001b[0;34m)\u001b[0m\u001b[0;34m)\u001b[0m\u001b[0;34m:\u001b[0m\u001b[0;34m\u001b[0m\u001b[0;34m\u001b[0m\u001b[0m\n\u001b[1;32m      7\u001b[0m       \u001b[0mcofator\u001b[0m \u001b[0;34m=\u001b[0m \u001b[0;34m(\u001b[0m\u001b[0;34m-\u001b[0m\u001b[0;36m1\u001b[0m\u001b[0;34m)\u001b[0m\u001b[0;34m*\u001b[0m\u001b[0mAc\u001b[0m\u001b[0;34m[\u001b[0m\u001b[0mj\u001b[0m\u001b[0;34m,\u001b[0m\u001b[0mi\u001b[0m\u001b[0;34m]\u001b[0m\u001b[0;34m/\u001b[0m\u001b[0mAc\u001b[0m\u001b[0;34m[\u001b[0m\u001b[0mi\u001b[0m\u001b[0;34m,\u001b[0m\u001b[0mi\u001b[0m\u001b[0;34m]\u001b[0m\u001b[0;34m\u001b[0m\u001b[0;34m\u001b[0m\u001b[0m\n\u001b[0;32m----> 8\u001b[0;31m       \u001b[0mAc\u001b[0m\u001b[0;34m[\u001b[0m\u001b[0mj\u001b[0m\u001b[0;34m,\u001b[0m\u001b[0;34m:\u001b[0m\u001b[0;34m]\u001b[0m \u001b[0;34m=\u001b[0m \u001b[0mAc\u001b[0m\u001b[0;34m[\u001b[0m\u001b[0mi\u001b[0m\u001b[0;34m,\u001b[0m\u001b[0;34m:\u001b[0m\u001b[0;34m]\u001b[0m\u001b[0;34m*\u001b[0m\u001b[0mcofator\u001b[0m \u001b[0;34m+\u001b[0m \u001b[0mAc\u001b[0m\u001b[0;34m[\u001b[0m\u001b[0mj\u001b[0m\u001b[0;34m:\u001b[0m\u001b[0;34m]\u001b[0m\u001b[0;34m\u001b[0m\u001b[0;34m\u001b[0m\u001b[0m\n\u001b[0m\u001b[1;32m      9\u001b[0m       \u001b[0mBc\u001b[0m\u001b[0;34m[\u001b[0m\u001b[0mj\u001b[0m\u001b[0;34m]\u001b[0m \u001b[0;34m=\u001b[0m \u001b[0mBc\u001b[0m\u001b[0;34m[\u001b[0m\u001b[0mi\u001b[0m\u001b[0;34m]\u001b[0m\u001b[0;34m*\u001b[0m\u001b[0mcofator\u001b[0m \u001b[0;34m+\u001b[0m \u001b[0mBc\u001b[0m\u001b[0;34m[\u001b[0m\u001b[0mj\u001b[0m\u001b[0;34m]\u001b[0m\u001b[0;34m\u001b[0m\u001b[0;34m\u001b[0m\u001b[0m\n\u001b[1;32m     10\u001b[0m   \u001b[0;32mreturn\u001b[0m \u001b[0;34m(\u001b[0m\u001b[0mAc\u001b[0m\u001b[0;34m,\u001b[0m\u001b[0mBc\u001b[0m\u001b[0;34m)\u001b[0m\u001b[0;34m\u001b[0m\u001b[0;34m\u001b[0m\u001b[0m\n",
            "\u001b[0;31mValueError\u001b[0m: could not broadcast input array from shape (3,4) into shape (4,)"
          ]
        }
      ]
    }
  ]
}