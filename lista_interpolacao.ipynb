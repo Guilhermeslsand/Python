{
  "nbformat": 4,
  "nbformat_minor": 0,
  "metadata": {
    "colab": {
      "provenance": [],
      "authorship_tag": "ABX9TyMpAKayDMXrAi9yj5wDAgWR",
      "include_colab_link": true
    },
    "kernelspec": {
      "name": "python3",
      "display_name": "Python 3"
    },
    "language_info": {
      "name": "python"
    }
  },
  "cells": [
    {
      "cell_type": "markdown",
      "metadata": {
        "id": "view-in-github",
        "colab_type": "text"
      },
      "source": [
        "<a href=\"https://colab.research.google.com/github/Guilhermeslsand/Python/blob/main/lista_interpolacao.ipynb\" target=\"_parent\"><img src=\"https://colab.research.google.com/assets/colab-badge.svg\" alt=\"Open In Colab\"/></a>"
      ]
    },
    {
      "cell_type": "code",
      "execution_count": 54,
      "metadata": {
        "id": "vdolK9Eeg9iy"
      },
      "outputs": [],
      "source": [
        "import numpy as np\n",
        "import matplotlib.pyplot as plt\n",
        "import math"
      ]
    },
    {
      "cell_type": "code",
      "source": [
        "def interpolacao_linear(X,grau,valor):\n",
        "  #x é a tabela de informações\n",
        "  [nLinhas,nColunas] = X.shape\n",
        "  A = np.copy(X[0,:])\n",
        "  B = np.copy(X[1,:])\n",
        "  Bc = np.resize(B,(len(B),1))\n",
        "  Ac = np.zeros([len(A),grau+1],dtype='float')\n",
        "  for i in range(0,len(A)):\n",
        "    for j in range(0,grau+1):\n",
        "      Ac[j,i] = A[j]**i\n",
        "  for i in range(0,len(Ac)):\n",
        "    pivo = Ac[i,i]\n",
        "    Ac[i,:] = Ac[i,:]/pivo\n",
        "    Bc[i] = Bc[i]/pivo\n",
        "    for j in range(0,len(Ac)):\n",
        "      if j!=i:\n",
        "        m = Ac[j,i]\n",
        "        Ac[j,:] = Ac[j,:] - m*Ac[i,:]\n",
        "        Bc[j] = Bc[j] - m*Bc[i]\n",
        "    result = 0\n",
        "    for i in range(0,grau+1):\n",
        "      result = result + Bc[i]*valor**i\n",
        "  return (result)\n"
      ],
      "metadata": {
        "id": "mhjnprqchHuh"
      },
      "execution_count": 55,
      "outputs": []
    },
    {
      "cell_type": "markdown",
      "source": [
        "<h1>Questão 1</h1>\n",
        "<h2>item a)</h2>"
      ],
      "metadata": {
        "id": "6EjQ45XkrfdA"
      }
    },
    {
      "cell_type": "code",
      "source": [
        "n1 = int(input('Quantos pontos você está usando?:'))"
      ],
      "metadata": {
        "colab": {
          "base_uri": "https://localhost:8080/"
        },
        "id": "zEYFvJkPkocv",
        "outputId": "9ab92178-b5a3-4ad8-d6cb-e8c41a7d476f"
      },
      "execution_count": 159,
      "outputs": [
        {
          "name": "stdout",
          "output_type": "stream",
          "text": [
            "Quantos pontos você está usando?:2\n"
          ]
        }
      ]
    },
    {
      "cell_type": "code",
      "source": [
        "X = np.zeros([2,n1],dtype='float')\n",
        "for i in range(0,2):\n",
        "  for j in range(0,n1):\n",
        "    if i == 0:\n",
        "      X[i,j] = float(input(f'Digite o valor do x{j}:'))\n",
        "    elif i == 1:\n",
        "      X[i,j] = float(input(f'Digite o valor de fx{j}:'))\n"
      ],
      "metadata": {
        "colab": {
          "base_uri": "https://localhost:8080/"
        },
        "id": "aCKcOiNnkLfj",
        "outputId": "97369ddc-c88e-4f87-84ce-f8bc9a1e9d44"
      },
      "execution_count": 154,
      "outputs": [
        {
          "name": "stdout",
          "output_type": "stream",
          "text": [
            "Digite o valor do x0:8\n",
            "Digite o valor do x1:12\n",
            "Digite o valor de fx0:0.9030900\n",
            "Digite o valor de fx1:1.0791812\n"
          ]
        }
      ]
    },
    {
      "cell_type": "code",
      "source": [
        "grau = n1-1\n",
        "resultado = interpolacao_linear(X,grau,10)\n",
        "print(1-resultado)"
      ],
      "metadata": {
        "colab": {
          "base_uri": "https://localhost:8080/"
        },
        "id": "9JLKM8ijkiSY",
        "outputId": "5503b382-0d08-4af8-9ab1-de2175e78afd"
      },
      "execution_count": 160,
      "outputs": [
        {
          "output_type": "stream",
          "name": "stdout",
          "text": [
            "[0.0088644]\n"
          ]
        }
      ]
    },
    {
      "cell_type": "code",
      "source": [
        "esperado = math.log(10,10)\n",
        "erro_rel = abs(esperado - resultado)/abs(esperado)\n",
        "print(f'Erro relativo percentual:{erro_rel*100}%')"
      ],
      "metadata": {
        "colab": {
          "base_uri": "https://localhost:8080/"
        },
        "id": "htmDqw-Gtr_U",
        "outputId": "64c59aab-2a9e-4d8c-80d1-08d32b7ade7f"
      },
      "execution_count": 60,
      "outputs": [
        {
          "output_type": "stream",
          "name": "stdout",
          "text": [
            "Erro relativo percentual:[0.88644]%\n"
          ]
        }
      ]
    },
    {
      "cell_type": "markdown",
      "source": [
        "<h2>item b)</h2>"
      ],
      "metadata": {
        "id": "F40FHvcKtUGt"
      }
    },
    {
      "cell_type": "code",
      "source": [
        "n1 = int(input('Quantos pontos você está usando?:'))"
      ],
      "metadata": {
        "colab": {
          "base_uri": "https://localhost:8080/"
        },
        "id": "8VDXvBeCtWBd",
        "outputId": "3f990c0b-3546-44aa-8a40-6b97e45258e6"
      },
      "execution_count": 162,
      "outputs": [
        {
          "name": "stdout",
          "output_type": "stream",
          "text": [
            "Quantos pontos você está usando?:2\n"
          ]
        }
      ]
    },
    {
      "cell_type": "code",
      "source": [
        "X = np.zeros([2,n],dtype='float')\n",
        "for i in range(0,2):\n",
        "  for j in range(0,n):\n",
        "    if i == 0:\n",
        "      X[i,j] = float(input(f'Digite o valor do x{j}:'))\n",
        "    elif i == 1:\n",
        "      X[i,j] = float(input(f'Digite o valor de fx{j}:'))"
      ],
      "metadata": {
        "colab": {
          "base_uri": "https://localhost:8080/"
        },
        "id": "5jZehUIstab-",
        "outputId": "4ead76d0-53a5-401d-fa50-49ab37f15271"
      },
      "execution_count": 163,
      "outputs": [
        {
          "name": "stdout",
          "output_type": "stream",
          "text": [
            "Digite o valor do x0:9\n",
            "Digite o valor do x1:11\n",
            "Digite o valor de fx0:0.9543435\n",
            "Digite o valor de fx1:1.0413927\n"
          ]
        }
      ]
    },
    {
      "cell_type": "code",
      "source": [
        "grau = n1 -1\n",
        "resultado = interpolacao_linear(X,grau,10)\n",
        "print(resultado)"
      ],
      "metadata": {
        "colab": {
          "base_uri": "https://localhost:8080/"
        },
        "id": "b0_DXAg_tknw",
        "outputId": "45239f91-4521-4e8b-ac7a-8d4289b8ad9b"
      },
      "execution_count": 165,
      "outputs": [
        {
          "output_type": "stream",
          "name": "stdout",
          "text": [
            "[0.9978681]\n"
          ]
        }
      ]
    },
    {
      "cell_type": "code",
      "source": [
        "esperado = math.log(10,10)\n",
        "erro_rel = abs(esperado - resultado)/abs(esperado)\n",
        "print(f'Erro relativo percentual:{erro_rel*100}')"
      ],
      "metadata": {
        "colab": {
          "base_uri": "https://localhost:8080/"
        },
        "id": "ipDQua4YtrQd",
        "outputId": "513b64e1-813d-4c35-e486-472890463b93"
      },
      "execution_count": null,
      "outputs": [
        {
          "output_type": "stream",
          "name": "stdout",
          "text": [
            "Erro relativo percentual:[0.21824]\n"
          ]
        }
      ]
    },
    {
      "cell_type": "markdown",
      "source": [
        "<h1>Questão 2</h2>"
      ],
      "metadata": {
        "id": "nCF-XnUMxfHW"
      }
    },
    {
      "cell_type": "code",
      "source": [
        "#X é uma array para os valores de x\n",
        "# F é uma tebla que armazena os arrays com os valores de f(x) de acordo como a ordem\n",
        "n2 = int(input('Quantos pontos você está usando?:'))\n"
      ],
      "metadata": {
        "colab": {
          "base_uri": "https://localhost:8080/"
        },
        "id": "YxvoR6O9xiJt",
        "outputId": "84013cd2-0e12-4562-ed88-363571f7a9b1"
      },
      "execution_count": 122,
      "outputs": [
        {
          "name": "stdout",
          "output_type": "stream",
          "text": [
            "Quantos pontos você está usando?:3\n"
          ]
        }
      ]
    },
    {
      "cell_type": "code",
      "source": [
        "grau = n2-1\n",
        "tab2 = np.zeros([n2,n2+1],dtype='float')\n",
        "for j in range(0,2):\n",
        "  for i in range(0,n2):\n",
        "    if j == 0:\n",
        "      tab2[i,j] = float(input(f'Digite o valor do x{i}:'))\n",
        "    elif j == 1:\n",
        "      tab2[i,j] = float(input(f'Digite o valor de fx{i}:'))\n",
        "print(tab2)"
      ],
      "metadata": {
        "colab": {
          "base_uri": "https://localhost:8080/"
        },
        "id": "D7PHZJd1zmnp",
        "outputId": "fc60bd08-3ab7-4a26-f32b-f0c8de4a9869"
      },
      "execution_count": 124,
      "outputs": [
        {
          "output_type": "stream",
          "name": "stdout",
          "text": [
            "Digite o valor do x0:8\n",
            "Digite o valor do x1:9\n",
            "Digite o valor do x2:11\n",
            "Digite o valor de fx0:0.9030900\n",
            "Digite o valor de fx1:0.9542425\n",
            "Digite o valor de fx2:1.0413927\n",
            "[[ 8.         0.90309    0.         0.       ]\n",
            " [ 9.         0.9542425  0.         0.       ]\n",
            " [11.         1.0413927  0.         0.       ]]\n"
          ]
        }
      ]
    },
    {
      "cell_type": "code",
      "source": [
        "def matriz_vandermond(X):\n",
        "  mat_pol = np.copy(X)\n",
        "  graup = len(mat_pol[0])-1\n",
        "  passo = 1\n",
        "  [nlinhas,ncolunas] = mat_pol.shape\n",
        "  for j in range(1,ncolunas-1):\n",
        "    for i in range(0,nlinhas-1):\n",
        "      if i+passo < nlinhas:\n",
        "        div = mat_pol[i+passo][0] - mat_pol[i][0]\n",
        "        dif = mat_pol[i+1][j]- mat_pol[i][j]\n",
        "        mat_pol[i][j+1] = dif/div\n",
        "    passo = passo + 1\n",
        "  return mat_pol"
      ],
      "metadata": {
        "id": "RygOmvQOD7Q1"
      },
      "execution_count": 125,
      "outputs": []
    },
    {
      "cell_type": "code",
      "source": [
        "mat = matriz_vandermond(tab2)\n",
        "print(mat)"
      ],
      "metadata": {
        "colab": {
          "base_uri": "https://localhost:8080/"
        },
        "id": "D-KsYRmIiqYK",
        "outputId": "40004725-8653-43b2-a0bc-3879b38e16f5"
      },
      "execution_count": 126,
      "outputs": [
        {
          "output_type": "stream",
          "name": "stdout",
          "text": [
            "[[ 8.0000000e+00  9.0309000e-01  5.1152500e-02 -2.5258000e-03]\n",
            " [ 9.0000000e+00  9.5424250e-01  4.3575100e-02  0.0000000e+00]\n",
            " [ 1.1000000e+01  1.0413927e+00  0.0000000e+00  0.0000000e+00]]\n"
          ]
        }
      ]
    },
    {
      "cell_type": "code",
      "source": [
        "def polinomio_newton(mat,x,grau=len(mat[:,0]),inicio = 0):\n",
        "  i = inicio\n",
        "  vet = []\n",
        "  soma = 0\n",
        "  for j in range(1,grau+2):\n",
        "    product = 1\n",
        "    if j == 1:\n",
        "      soma = mat[i][j]\n",
        "    else:\n",
        "      for k in range(0,j):\n",
        "        product = (x-mat[k][0]) * product\n",
        "      soma = soma + (product*mat[i][j])\n",
        "  return soma"
      ],
      "metadata": {
        "id": "6lKKa7r-5Ne_"
      },
      "execution_count": 177,
      "outputs": []
    },
    {
      "cell_type": "code",
      "source": [
        "resultado = polinomio_newton(mat,10,2)\n",
        "print(resultado)\n"
      ],
      "metadata": {
        "colab": {
          "base_uri": "https://localhost:8080/"
        },
        "id": "7L-q9EoRD8NN",
        "outputId": "3e05dcd2-36fc-4999-c2bb-e0e1a695f63c"
      },
      "execution_count": 170,
      "outputs": [
        {
          "output_type": "stream",
          "name": "stdout",
          "text": [
            "1.0104466\n"
          ]
        }
      ]
    },
    {
      "cell_type": "code",
      "source": [
        "esperado = math.log(10,10)\n",
        "erro_rel = abs(esperado - resultado)/abs(esperado)\n",
        "print(f'Erro relativo percentual:{erro_rel*100}%')"
      ],
      "metadata": {
        "colab": {
          "base_uri": "https://localhost:8080/"
        },
        "id": "kLs7933rEHUR",
        "outputId": "65abc935-d6d6-4552-9ae0-c3b511c26332"
      },
      "execution_count": 171,
      "outputs": [
        {
          "output_type": "stream",
          "name": "stdout",
          "text": [
            "Erro relativo percentual:1.0446600000000084%\n"
          ]
        }
      ]
    },
    {
      "cell_type": "code",
      "source": [
        "min = mat[0][0]\n",
        "max = mat[n2-1][0]\n",
        "x = np.linspace(min,max,100)\n",
        "y = []\n",
        "for i in x:\n",
        "  y.append(polinomio_newton(mat, i, 2))\n",
        "# Plotando o gráfico\n",
        "plt.plot(x, y, label='Polinômio de Newton')\n",
        "# Pontos de dados\n",
        "pontos_x = mat[:, 0]\n",
        "pontos_y = mat[:, 1]\n",
        "plt.scatter(pontos_x, pontos_y, color='red', label='Pontos de Dados')\n",
        "plt.legend()\n",
        "plt.xlabel('x')\n",
        "plt.ylabel('y')\n",
        "plt.title('Polinômio de Newton')\n",
        "plt.grid(True)\n",
        "plt.show()"
      ],
      "metadata": {
        "colab": {
          "base_uri": "https://localhost:8080/",
          "height": 472
        },
        "id": "gf4IPF0i8tR3",
        "outputId": "070469ca-9f60-43ae-8cba-66636ac96122"
      },
      "execution_count": 78,
      "outputs": [
        {
          "output_type": "display_data",
          "data": {
            "text/plain": [
              "<Figure size 640x480 with 1 Axes>"
            ],
            "image/png": "[encoded data removed]"
          },
          "metadata": {}
        }
      ]
    },
    {
      "cell_type": "markdown",
      "source": [
        "<h1>Questão 3</h1>\n",
        "\n",
        "\n"
      ],
      "metadata": {
        "id": "2CRruJ1L8LIV"
      }
    },
    {
      "cell_type": "code",
      "source": [
        "n3 = int(input('Quantos pontos vai ser utilizado?:'))"
      ],
      "metadata": {
        "colab": {
          "base_uri": "https://localhost:8080/"
        },
        "id": "y3lTJeqdTWeE",
        "outputId": "25632766-fd25-493f-fe38-410775a574d8"
      },
      "execution_count": 172,
      "outputs": [
        {
          "name": "stdout",
          "output_type": "stream",
          "text": [
            "Quantos pontos vai ser utilizado?:6\n"
          ]
        }
      ]
    },
    {
      "cell_type": "code",
      "source": [
        "tab3 = np.zeros([n3,n3+1],dtype='float')\n",
        "for j in range(0,2):\n",
        "  for i in range(0,n3):\n",
        "    if j == 0:\n",
        "      tab3[i,0] = float(input(f'Digite o valo1r do x{i}:'))\n",
        "    elif j == 1:\n",
        "      tab3[i,1] = float(input(f'Digite o valor de fx{i}:'))"
      ],
      "metadata": {
        "colab": {
          "base_uri": "https://localhost:8080/"
        },
        "id": "Kbp3i8zaTXBO",
        "outputId": "a313406e-a617-401e-8b32-437c91cf89b9"
      },
      "execution_count": 192,
      "outputs": [
        {
          "name": "stdout",
          "output_type": "stream",
          "text": [
            "Digite o valo1r do x0:1.6\n",
            "Digite o valo1r do x1:2\n",
            "Digite o valo1r do x2:2.5\n",
            "Digite o valo1r do x3:3.2\n",
            "Digite o valo1r do x4:4\n",
            "Digite o valo1r do x5:4.5\n",
            "Digite o valor de fx0:2\n",
            "Digite o valor de fx1:8\n",
            "Digite o valor de fx2:14\n",
            "Digite o valor de fx3:15\n",
            "Digite o valor de fx4:8\n",
            "Digite o valor de fx5:2\n"
          ]
        }
      ]
    },
    {
      "cell_type": "code",
      "source": [
        "print(tab3)"
      ],
      "metadata": {
        "colab": {
          "base_uri": "https://localhost:8080/"
        },
        "id": "T4V-stKhFpwM",
        "outputId": "730c7be8-743b-4f20-a11d-c8dfcf71f191"
      },
      "execution_count": 174,
      "outputs": [
        {
          "output_type": "stream",
          "name": "stdout",
          "text": [
            "[[ 1.6  2.   0.   0.   0.   0.   0. ]\n",
            " [ 2.   8.   0.   0.   0.   0.   0. ]\n",
            " [ 2.5 14.   0.   0.   0.   0.   0. ]\n",
            " [ 3.2 15.   0.   0.   0.   0.   0. ]\n",
            " [ 4.   8.   0.   0.   0.   0.   0. ]\n",
            " [ 4.5  2.   0.   0.   0.   0.   0. ]]\n"
          ]
        }
      ]
    },
    {
      "cell_type": "code",
      "source": [
        "mat = matriz_vandermond(tab3)"
      ],
      "metadata": {
        "id": "wZ6XOhZ3Xe53"
      },
      "execution_count": 199,
      "outputs": []
    },
    {
      "cell_type": "markdown",
      "source": [
        "<h1>Item a)</h1>"
      ],
      "metadata": {
        "id": "vC2vDgFDNE4a"
      }
    },
    {
      "cell_type": "markdown",
      "source": [
        "<h2>Primeira ordem</h2>"
      ],
      "metadata": {
        "id": "LDCV3nCbFNdi"
      }
    },
    {
      "cell_type": "code",
      "source": [
        "resultado1 = polinomio_newton(mat,2.8,grau=1,inicio=2)\n",
        "print(resultado1)"
      ],
      "metadata": {
        "colab": {
          "base_uri": "https://localhost:8080/"
        },
        "id": "lKJ9oHSAFWgi",
        "outputId": "f461efa9-3ec8-43a5-e90a-70d35912c8c7"
      },
      "execution_count": 198,
      "outputs": [
        {
          "output_type": "stream",
          "name": "stdout",
          "text": [
            "15.37142857142857\n"
          ]
        }
      ]
    },
    {
      "cell_type": "markdown",
      "source": [
        "<h2>Segunda ordem</h2>"
      ],
      "metadata": {
        "id": "eUHd-9jTL4cS"
      }
    },
    {
      "cell_type": "code",
      "source": [
        "resultado2 = polinomio_newton(mat,2.8,grau=2,inicio=1)\n",
        "print(resultado2)"
      ],
      "metadata": {
        "colab": {
          "base_uri": "https://localhost:8080/"
        },
        "id": "03uMRjrZL-Rq",
        "outputId": "763c545c-2ed7-4343-d826-7c1b0897da62"
      },
      "execution_count": 183,
      "outputs": [
        {
          "output_type": "stream",
          "name": "stdout",
          "text": [
            "16.982857142857142\n"
          ]
        }
      ]
    },
    {
      "cell_type": "markdown",
      "source": [
        "<h2>Terceira ordem</h2>"
      ],
      "metadata": {
        "id": "7utgRnsSMiTU"
      }
    },
    {
      "cell_type": "code",
      "source": [
        "resultado3 = polinomio_newton(mat,2.8,grau=3,inicio=1)\n",
        "print(resultado3)"
      ],
      "metadata": {
        "colab": {
          "base_uri": "https://localhost:8080/"
        },
        "id": "yoiPRpkbMhBR",
        "outputId": "f314acb1-f7d6-4df6-ecb0-f684d9de6803"
      },
      "execution_count": 186,
      "outputs": [
        {
          "output_type": "stream",
          "name": "stdout",
          "text": [
            "16.866285714285713\n"
          ]
        }
      ]
    },
    {
      "cell_type": "markdown",
      "source": [
        "<h2>Item b)</h2>"
      ],
      "metadata": {
        "id": "g09MmOdLNAcw"
      }
    },
    {
      "cell_type": "code",
      "source": [
        "f0 = polinomio_newton(mat,2.8,grau=0,inicio=0)\n",
        "f1 = polinomio_newton(mat,2.8,grau=1,inicio=2)\n",
        "f2 = polinomio_newton(mat,2.8,grau=2,inicio=1)\n",
        "f3 = polinomio_newton(mat,2.8,grau=3,inicio=1)\n",
        "f4 = polinomio_newton(mat,2.8,grau=4,inicio=0)\n",
        "f5 = polinomio_newton(mat,2.8,grau=5,inicio=0)\n",
        "\n",
        "r1 = f1 -f0\n",
        "r2 = f2 -f1\n",
        "r3 = f3 -f2\n",
        "r4 = f4 -f3\n",
        "r5 = f5 -f4\n",
        "\n",
        "print(f'R1 = {r1}\\n')\n",
        "print(f'R2 = {r2}\\n')\n",
        "print(f'R3 = {r3}\\n')\n",
        "print(f'R4 = {r4}\\n')\n",
        "print(f'R5 = {r5}\\n')"
      ],
      "metadata": {
        "colab": {
          "base_uri": "https://localhost:8080/"
        },
        "id": "r3oybG47NChc",
        "outputId": "668dc26e-26e6-4891-e0ae-c8ef4d8c4c5d"
      },
      "execution_count": 189,
      "outputs": [
        {
          "output_type": "stream",
          "name": "stdout",
          "text": [
            "R1 = 13.37142857142857\n",
            "\n",
            "R2 = 1.611428571428572\n",
            "\n",
            "R3 = -0.11657142857142944\n",
            "\n",
            "R4 = -0.7765714285714296\n",
            "\n",
            "R5 = 0.11307428571428702\n",
            "\n"
          ]
        }
      ]
    },
    {
      "cell_type": "markdown",
      "source": [
        "<h1> Questão 4</h1>"
      ],
      "metadata": {
        "id": "leCdWftYOaGn"
      }
    },
    {
      "cell_type": "code",
      "source": [
        "n4 = int(input('Quantos pontos vai ser utilizado?:'))"
      ],
      "metadata": {
        "colab": {
          "base_uri": "https://localhost:8080/"
        },
        "id": "FbTU6L-KOcQT",
        "outputId": "656ba2dd-0a60-4481-cf93-b24a935cd695"
      },
      "execution_count": 190,
      "outputs": [
        {
          "name": "stdout",
          "output_type": "stream",
          "text": [
            "Quantos pontos vai ser utilizado?:6\n"
          ]
        }
      ]
    },
    {
      "cell_type": "code",
      "source": [
        "tab4 = np.zeros([n4,n4+1],dtype='float')\n",
        "grau = n4-1\n",
        "for j in range(0,2):\n",
        "  for i in range(0,n4):\n",
        "    if j == 0:\n",
        "      tab4[i,0] = float(input(f'Digite o valo1r do x{i}:'))\n",
        "    elif j == 1:\n",
        "      tab4[i,1] = float(input(f'Digite o valor de fx{i}:'))"
      ],
      "metadata": {
        "colab": {
          "base_uri": "https://localhost:8080/"
        },
        "id": "aKrPwdYgOfXr",
        "outputId": "f3ad7963-b97d-48c0-e41c-a3d2b4c93d29"
      },
      "execution_count": 193,
      "outputs": [
        {
          "name": "stdout",
          "output_type": "stream",
          "text": [
            "Digite o valo1r do x0:1\n",
            "Digite o valo1r do x1:2\n",
            "Digite o valo1r do x2:3\n",
            "Digite o valo1r do x3:5\n",
            "Digite o valo1r do x4:7\n",
            "Digite o valo1r do x5:8\n",
            "Digite o valor de fx0:3\n",
            "Digite o valor de fx1:6\n",
            "Digite o valor de fx2:19\n",
            "Digite o valor de fx3:99\n",
            "Digite o valor de fx4:291\n",
            "Digite o valor de fx5:444\n"
          ]
        }
      ]
    },
    {
      "cell_type": "code",
      "source": [
        "print(tab4)"
      ],
      "metadata": {
        "colab": {
          "base_uri": "https://localhost:8080/"
        },
        "id": "ggSex_6iPHNa",
        "outputId": "d28658f8-603c-44a3-898d-863001fec2e6"
      },
      "execution_count": 195,
      "outputs": [
        {
          "output_type": "stream",
          "name": "stdout",
          "text": [
            "[[  1.   3.   0.   0.   0.   0.   0.]\n",
            " [  2.   6.   0.   0.   0.   0.   0.]\n",
            " [  3.  19.   0.   0.   0.   0.   0.]\n",
            " [  5.  99.   0.   0.   0.   0.   0.]\n",
            " [  7. 291.   0.   0.   0.   0.   0.]\n",
            " [  8. 444.   0.   0.   0.   0.   0.]]\n"
          ]
        }
      ]
    },
    {
      "cell_type": "code",
      "source": [
        "mat = matriz_vandermond(tab4)\n",
        "print(mat)"
      ],
      "metadata": {
        "colab": {
          "base_uri": "https://localhost:8080/"
        },
        "id": "1LEAmc-KPq-7",
        "outputId": "189b4879-cfcd-49f8-ea01-88fe01a4b1d0"
      },
      "execution_count": 203,
      "outputs": [
        {
          "output_type": "stream",
          "name": "stdout",
          "text": [
            "[[  1.   3.   3.   5.   1.   0.   0.]\n",
            " [  2.   6.  13.   9.   1.   0.   0.]\n",
            " [  3.  19.  40.  14.   1.   0.   0.]\n",
            " [  5.  99.  96.  19.   0.   0.   0.]\n",
            " [  7. 291. 153.   0.   0.   0.   0.]\n",
            " [  8. 444.   0.   0.   0.   0.   0.]]\n"
          ]
        }
      ]
    },
    {
      "cell_type": "markdown",
      "source": [
        "<h1>Primeira ordem</h1>"
      ],
      "metadata": {
        "id": "04EoM7wRQJrx"
      }
    },
    {
      "cell_type": "code",
      "source": [
        "resultado1 = polinomio_newton(mat,4,grau=1,inicio=1)\n",
        "print(resultado1)"
      ],
      "metadata": {
        "colab": {
          "base_uri": "https://localhost:8080/"
        },
        "id": "a9S2EiHCP42O",
        "outputId": "6949a6c3-a487-4913-91bc-3e27312feb63"
      },
      "execution_count": 208,
      "outputs": [
        {
          "output_type": "stream",
          "name": "stdout",
          "text": [
            "84.0\n"
          ]
        }
      ]
    },
    {
      "cell_type": "markdown",
      "source": [
        "<h1>Segunda Ordem</h1>"
      ],
      "metadata": {
        "id": "ahDey99RQp2u"
      }
    },
    {
      "cell_type": "code",
      "source": [
        "resultado2 = polinomio_newton(mat,4,grau=2,inicio=0)\n",
        "print(resultado2)"
      ],
      "metadata": {
        "colab": {
          "base_uri": "https://localhost:8080/"
        },
        "id": "xzkW9e72QYpY",
        "outputId": "fd2f2621-50a1-4927-998f-f301077ef35d"
      },
      "execution_count": 210,
      "outputs": [
        {
          "output_type": "stream",
          "name": "stdout",
          "text": [
            "51.0\n"
          ]
        }
      ]
    },
    {
      "cell_type": "markdown",
      "source": [
        "<h1>Terceira Ordem</h1>"
      ],
      "metadata": {
        "id": "YhSdzuzNQ_Sh"
      }
    },
    {
      "cell_type": "code",
      "source": [
        "esultado3 = polinomio_newton(mat,4,grau=3,inicio=1)\n",
        "print(resultado3)"
      ],
      "metadata": {
        "colab": {
          "base_uri": "https://localhost:8080/"
        },
        "id": "jnNGdbr3Qycv",
        "outputId": "6d7f31f0-f1a2-4a51-f6fa-6be3357647da"
      },
      "execution_count": 217,
      "outputs": [
        {
          "output_type": "stream",
          "name": "stdout",
          "text": [
            "16.866285714285713\n"
          ]
        }
      ]
    },
    {
      "cell_type": "markdown",
      "source": [
        "<h1>Quarta Ordem</h1>"
      ],
      "metadata": {
        "id": "dXClVfrKRbp2"
      }
    },
    {
      "cell_type": "code",
      "source": [
        "resultado4 = polinomio_newton(mat,4,grau=3,inicio=0)\n",
        "print(resultado4)"
      ],
      "metadata": {
        "colab": {
          "base_uri": "https://localhost:8080/"
        },
        "id": "1gpgOp5-RGDd",
        "outputId": "42d2efd3-aae2-4c9e-aea3-f4684d215d83"
      },
      "execution_count": 220,
      "outputs": [
        {
          "output_type": "stream",
          "name": "stdout",
          "text": [
            "45.0\n"
          ]
        }
      ]
    },
    {
      "cell_type": "code",
      "source": [],
      "metadata": {
        "id": "I7OQSnRARgg3"
      },
      "execution_count": null,
      "outputs": []
    }
  ]
}