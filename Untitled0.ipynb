{
  "nbformat": 4,
  "nbformat_minor": 0,
  "metadata": {
    "colab": {
      "provenance": [],
      "authorship_tag": "ABX9TyMSAzgQRPtE5RpwsEQPAdP2",
      "include_colab_link": true
    },
    "kernelspec": {
      "name": "python3",
      "display_name": "Python 3"
    },
    "language_info": {
      "name": "python"
    }
  },
  "cells": [
    {
      "cell_type": "markdown",
      "metadata": {
        "id": "view-in-github",
        "colab_type": "text"
      },
      "source": [
        "<a href=\"https://colab.research.google.com/github/Guilhermeslsand/Python/blob/main/Untitled0.ipynb\" target=\"_parent\"><img src=\"https://colab.research.google.com/assets/colab-badge.svg\" alt=\"Open In Colab\"/></a>"
      ]
    },
    {
      "cell_type": "code",
      "execution_count": null,
      "metadata": {
        "id": "ediLYc3ahI5W"
      },
      "outputs": [],
      "source": [
        "def newton-rapshon(x0,tol,maxiter):\n",
        "  x1 = x0 - (f(x0)/devf(x0))\n",
        "  erro = abs(x1-x0)/abs(x1)\n",
        "  while it < maxiter and erro > tol\n",
        "    x0 = x1\n",
        "    x1 = x0 - (f(x0)/devf(x0))\n",
        "    erro = abs(x1-x0)/abs(x1)\n",
        "\n",
        "def secante(x0,x1,tol,maxiter):\n",
        "  x2 = x1*f(x0) - x0*f(x1) / (f(x1) - f(x0))\n",
        "  erro = abs(x1-x0)/abs(x1)\n",
        "  while it < maxiter and erro > tol\n",
        "    x0 = x1\n",
        "    x1 = x2\n",
        "    x2 = x1*f(x0) - x0*f(x1) / (f(x1) - f(x0))"
      ]
    }
  ]
}