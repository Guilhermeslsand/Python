{
 "cells": [
  {
   "cell_type": "markdown",
   "id": "87c769fe-050a-4dcb-aed6-ebb64ce944cd",
   "metadata": {
    "jp-MarkdownHeadingCollapsed": true,
    "tags": []
   },
   "source": [
    "<div class=\"markdown-google-sans\">\n",
    "  <h1>Importando as bibliotecas</h1>\n",
    "</div>"
   ]
  },
  {
   "cell_type": "code",
   "execution_count": 2,
   "id": "7ec3a18e-e62c-49bd-a37b-623f28445007",
   "metadata": {
    "tags": []
   },
   "outputs": [],
   "source": [
    "import numpy as np\n",
    "import matplotlib.pyplot as plt\n",
    "import math"
   ]
  },
  {
   "cell_type": "markdown",
   "id": "986fedb7-1718-4aa2-be54-df4ddc27ed8c",
   "metadata": {
    "jp-MarkdownHeadingCollapsed": true,
    "tags": []
   },
   "source": [
    "<div class=\"markdown-google-sans\">\n",
    "  <h1>Questão 1</h1>\n",
    "</div>\n",
    "\n",
    "Faça uma estimativa do logaritmo de 10 na base 10 (log 10 ) usando interpolação\n",
    "linear.\n",
    "\n",
    "Para cada interpolação, calcule o erro relativo percentual baseado no valor\n",
    "verdadeiro."
   ]
  },
  {
   "cell_type": "code",
   "execution_count": 207,
   "id": "0b488de1-2365-4080-8176-0ea005e86a65",
   "metadata": {
    "tags": []
   },
   "outputs": [],
   "source": [
    "'''implementar a interpolação junto a lógica do método \n",
    "Gaus-Jordan para resolver o Sistema Linear'''\n",
    "\n",
    "def interpolacao(Pontos,**kwargs):\n",
    "    #X é a matriz com os valores dos pontos \n",
    "    #Pontos[:,0]=x e Pontos[:,1]=f(x) \n",
    "    \n",
    "    # Defini o grau da interpolação, \n",
    "    # Senão for passado grau faz por padrão para grau 2.\n",
    "    grau = kwargs.get('grau', 2) \n",
    "\n",
    "    # Defini o ponto inicial para interpolar, \n",
    "    # Senão for passado inicio começa do 0.\n",
    "    inicio = kwargs.get('inicio', 0)\n",
    "\n",
    "    \n",
    "    A = np.copy(Pontos[:,0])\n",
    "    Bc = np.copy(Pontos[:,1])\n",
    "    Bc = np.resize(Bc,(len(Bc),1)) #Redimenzinando para vetor coluna\n",
    "    \n",
    "    #Coloca na matriz AC a matriz de vandermond(matriz de potências)\n",
    "    Ac = np.zeros([len(A)-inicio,grau],dtype='float')\n",
    "    for i in range(0,len(A)):\n",
    "        for j in range(0,grau):\n",
    "            Ac[j,i] = A[j]**i\n",
    "            \n",
    "    #Lógica do Gauss-Jordan        \n",
    "    for i in range(0,len(Ac)):\n",
    "        pivo = Ac[i,i]\n",
    "        Ac[i,:] = Ac[i,:]/pivo\n",
    "        Bc[i] = Bc[i]/pivo\n",
    "        for j in range(0,len(Ac)):\n",
    "            if j!=i:\n",
    "                m = Ac[j,i]\n",
    "                Ac[j,:] = Ac[j,:] - m*Ac[i,:]\n",
    "                Bc[j] = Bc[j] - m*Bc[i]\n",
    "                \n",
    "    return Bc #Retorna o vetor de coeficientes para o polinômio"
   ]
  },
  {
   "cell_type": "markdown",
   "id": "043bf05b-8965-4a44-b95f-c22f479466c5",
   "metadata": {
    "tags": []
   },
   "source": [
    "<div class=\"markdown-google-sans\">\n",
    "  <h2>Item a)</h2>\n",
    "</div>\n",
    "\n",
    "interpole entre: \n",
    "- log(8)(10) = 0.9030900\n",
    "- log(12)(10) = 1.0791812"
   ]
  },
  {
   "cell_type": "code",
   "execution_count": 201,
   "id": "f9750ee9-7630-492a-8dc6-272720365eea",
   "metadata": {
    "tags": []
   },
   "outputs": [
    {
     "name": "stdin",
     "output_type": "stream",
     "text": [
      "Quantos pontos você está usando?: 2\n"
     ]
    }
   ],
   "source": [
    "npontos = int(input('Quantos pontos você está usando?:'))"
   ]
  },
  {
   "cell_type": "code",
   "execution_count": 204,
   "id": "4b8de18a-00ee-448d-9869-2c9e93e18245",
   "metadata": {
    "tags": []
   },
   "outputs": [
    {
     "name": "stdin",
     "output_type": "stream",
     "text": [
      "Digite o valor do x0: 8\n",
      "Digite o valor do x0: 12\n",
      "Digite o valor de fx1: 0.9030900\n",
      "Digite o valor de fx1: 1.0791812\n"
     ]
    },
    {
     "name": "stdout",
     "output_type": "stream",
     "text": [
      "\n",
      "xi:[ 8. 12.]\n",
      "\n",
      "yi:[0.90309   1.0791812]\n"
     ]
    }
   ],
   "source": [
    "pontos1a = np.zeros([npontos,2],dtype='float')\n",
    "for j in range(0,2):\n",
    "    for i in range(0,npontos):\n",
    "        if j == 0:\n",
    "            pontos1a[i,j] = float(input(f'Digite o valor do x{j}:'))\n",
    "        elif j == 1:\n",
    "            pontos1a[i,j] = float(input(f'Digite o valor de fx{j}:'))\n",
    "print(f'\\nxi:{pontos1a[:,0]}\\n')\n",
    "print(f'yi:{pontos1a[:,1]}')    "
   ]
  },
  {
   "cell_type": "code",
   "execution_count": 208,
   "id": "02936b34-cb18-4a15-a669-c698ecd5fa8d",
   "metadata": {
    "tags": []
   },
   "outputs": [
    {
     "name": "stdout",
     "output_type": "stream",
     "text": [
      "Coeficientes do polinomio interpolador\n",
      "[[0.5509076]\n",
      " [0.0440228]]\n"
     ]
    }
   ],
   "source": [
    "coef = interpolacao(pontos1a)\n",
    "print('Coeficientes do polinomio interpolador')\n",
    "print(coef)"
   ]
  },
  {
   "cell_type": "code",
   "execution_count": 209,
   "id": "e12d8807-dfdf-4b53-8dba-6d5a8607ef3e",
   "metadata": {
    "tags": []
   },
   "outputs": [
    {
     "name": "stdout",
     "output_type": "stream",
     "text": [
      "Valor de log(10)(10) pela interpolação linear:[0.9911356]\n"
     ]
    }
   ],
   "source": [
    "valor_est = 0 #Valor estimado\n",
    "for i in range (0,2): #2 por causa que é interpolação linear\n",
    "    valor_est += coef[i]*(10**i)\n",
    "print(f'Valor de log(10)(10) pela interpolação linear:{valor_est}')"
   ]
  },
  {
   "cell_type": "code",
   "execution_count": 210,
   "id": "896b9313-eff8-4069-ae2a-d80fd4fcdb5c",
   "metadata": {
    "tags": []
   },
   "outputs": [
    {
     "name": "stdout",
     "output_type": "stream",
     "text": [
      "Erro relativo percentual:[0.88644]%\n"
     ]
    }
   ],
   "source": [
    "valor_esp = math.log(10,10)\n",
    "erro_rel = abs(valor_esp - valor_est)/abs(valor_esp)\n",
    "print(f'Erro relativo percentual:{erro_rel*100}%')"
   ]
  },
  {
   "cell_type": "markdown",
   "id": "c2872555-9482-4a02-bf62-0e596738b125",
   "metadata": {
    "tags": []
   },
   "source": [
    "<div class=\"markdown-google-sans\">\n",
    "  <h2>Item b)</h2>\n",
    "</div>\n",
    "\n",
    "interpole entre: \n",
    "- log(9)(10) = 0.9542425\n",
    "- log(11)(10) = 1.0431927"
   ]
  },
  {
   "cell_type": "code",
   "execution_count": 212,
   "id": "bf8245b8-c34f-46de-a491-c8d1ce66757e",
   "metadata": {
    "tags": []
   },
   "outputs": [
    {
     "name": "stdin",
     "output_type": "stream",
     "text": [
      "Digite o valor do x0: 9\n",
      "Digite o valor do x0: 11\n",
      "Digite o valor de fx1: 0.9542425\n",
      "Digite o valor de fx1: 1.0431927\n"
     ]
    },
    {
     "name": "stdout",
     "output_type": "stream",
     "text": [
      "\n",
      "xi:[ 9. 11.]\n",
      "\n",
      "yi:[0.9542425 1.0431927]\n"
     ]
    }
   ],
   "source": [
    "pontos1b = np.zeros([npontos,2],dtype='float')\n",
    "for j in range(0,2):\n",
    "    for i in range(0,npontos):\n",
    "        if j == 0:\n",
    "            pontos1b[i,j] = float(input(f'Digite o valor do x{j}:'))\n",
    "        elif j == 1:\n",
    "            pontos1b[i,j] = float(input(f'Digite o valor de fx{j}:'))\n",
    "print(f'\\nxi:{pontos1b[:,0]}\\n')\n",
    "print(f'yi:{pontos1b[:,1]}')    "
   ]
  },
  {
   "cell_type": "code",
   "execution_count": 213,
   "id": "c9bf2c9e-4d96-4bb2-9946-398c94814332",
   "metadata": {
    "tags": []
   },
   "outputs": [
    {
     "name": "stdout",
     "output_type": "stream",
     "text": [
      "Coeficientes do polinomio interpolador\n",
      "[[0.5539666]\n",
      " [0.0444751]]\n"
     ]
    }
   ],
   "source": [
    "coef = interpolacao(pontos_1b)\n",
    "print('Coeficientes do polinomio interpolador')\n",
    "print(coef)"
   ]
  },
  {
   "cell_type": "code",
   "execution_count": 214,
   "id": "0a3d6af7-61dd-4b5a-b411-905593533a73",
   "metadata": {
    "tags": []
   },
   "outputs": [
    {
     "name": "stdout",
     "output_type": "stream",
     "text": [
      "Valor de log(10)(10) pela interpolação linear:[0.9987176]\n"
     ]
    }
   ],
   "source": [
    "valor_est = 0 #Valor estimado\n",
    "for i in range (0,2): #2 por causa que é interpolação linear\n",
    "    valor_est += coef[i]*(10**i)\n",
    "print(f'Valor de log(10)(10) pela interpolação linear:{valor_est}')"
   ]
  },
  {
   "cell_type": "code",
   "execution_count": 215,
   "id": "a4c1dbde-df6a-46f3-abbe-5c85f4a7e438",
   "metadata": {
    "tags": []
   },
   "outputs": [
    {
     "name": "stdout",
     "output_type": "stream",
     "text": [
      "Erro relativo percentual:[0.12824]%\n"
     ]
    }
   ],
   "source": [
    "valor_esp = math.log(10,10)\n",
    "erro_rel = abs(valor_esp - valor_est)/abs(valor_esp)\n",
    "print(f'Erro relativo percentual:{erro_rel*100}%')"
   ]
  },
  {
   "cell_type": "markdown",
   "id": "34c1b727-69c9-499c-ac5d-85432f279f64",
   "metadata": {
    "jp-MarkdownHeadingCollapsed": true,
    "tags": []
   },
   "source": [
    "<div class=\"markdown-google-sans\">\n",
    "  <h1>Questão 2</h1>\n",
    "</div>\n",
    "\n",
    "Ajuste um <strong>polinômio interpolador de Newton de segundo grau</strong> para fazer uma\n",
    "estimativa de log(10)(10), usando os dados do problema anterior em x = 8, 9, 11.\n",
    "\n",
    "Calcule o erro relativo percentual verdadeiro."
   ]
  },
  {
   "cell_type": "code",
   "execution_count": 28,
   "id": "d755a32a-ee91-4d59-ae38-15be3671cfa8",
   "metadata": {
    "tags": []
   },
   "outputs": [
    {
     "name": "stdin",
     "output_type": "stream",
     "text": [
      "Quantos pontos você está usando?: 3\n"
     ]
    }
   ],
   "source": [
    "npontos = int(input('Quantos pontos você está usando?:'))"
   ]
  },
  {
   "cell_type": "code",
   "execution_count": 30,
   "id": "c5263d1f-ff29-4e85-90ab-8dcb7a5ae980",
   "metadata": {
    "tags": []
   },
   "outputs": [
    {
     "name": "stdin",
     "output_type": "stream",
     "text": [
      "Digite o valor do x0: 8\n",
      "Digite o valor do x1: 9\n",
      "Digite o valor do x2: 11\n",
      "Digite o valor de fx0: 0.9030900\n",
      "Digite o valor de fx1: 0.9542425\n",
      "Digite o valor de fx2: 1.0431927\n"
     ]
    },
    {
     "name": "stdout",
     "output_type": "stream",
     "text": [
      "[[ 8.         0.90309  ]\n",
      " [ 9.         0.9542425]\n",
      " [11.         1.0431927]]\n"
     ]
    }
   ],
   "source": [
    "pontos2 = np.zeros([npontos,2],dtype='float')\n",
    "for j in range(0,2):\n",
    "    for i in range(0,npontos):\n",
    "        if j == 0:\n",
    "            pontos2[i,j] = float(input(f'Digite o valor do x{i}:'))\n",
    "        elif j == 1:\n",
    "            pontos2[i,j] = float(input(f'Digite o valor de fx{i}:'))\n",
    "print(f'\\nxi:{pontos2[:,0]}\\n')\n",
    "print(f'yi:{pontos2[:,1)}')"
   ]
  },
  {
   "cell_type": "code",
   "execution_count": 216,
   "id": "97a1d763-9115-4d86-b305-150e04e34622",
   "metadata": {
    "tags": []
   },
   "outputs": [],
   "source": [
    "def matriz_newton(P): \n",
    "    #P matriz dos pontos\n",
    "    # P[:,0] = x\n",
    "    # P[:,1] = fx\n",
    "    \n",
    "    [nlinhas,ncolunas] = P.shape\n",
    "    \n",
    "    #M vai ser a matriz com as diferenças divididas\n",
    "    M = np.zeros([nlinhas,nlinhas+1],dtype='float')\n",
    "    M[:,0] = P[:,0]\n",
    "    M[:,1] = P[:,1]\n",
    "    \n",
    "    #Variável para controlar os x da divisão\n",
    "    passo = 1\n",
    "    \n",
    "    [mlinhas,mcolunas] = M.shape\n",
    "    \n",
    "    for j in range(1,mcolunas-1):\n",
    "        for i in range(0,mlinhas-1):\n",
    "            if i+passo < mlinhas:\n",
    "                div = M[i+passo][0] - M[i][0]\n",
    "                dif = M[i+1][j]- M[i][j]\n",
    "                M[i][j+1] = dif/div\n",
    "        passo = passo + 1\n",
    "    return M"
   ]
  },
  {
   "cell_type": "code",
   "execution_count": 217,
   "id": "1dc70037-3333-4f80-9762-09f9cc44257e",
   "metadata": {
    "tags": []
   },
   "outputs": [
    {
     "name": "stdout",
     "output_type": "stream",
     "text": [
      "Matriz de Newton (Diferença Dividas):\n",
      "[[ 8.0000000e+00  9.0309000e-01  5.1152500e-02 -2.2258000e-03]\n",
      " [ 9.0000000e+00  9.5424250e-01  4.4475100e-02  0.0000000e+00]\n",
      " [ 1.1000000e+01  1.0431927e+00  0.0000000e+00  0.0000000e+00]]\n"
     ]
    }
   ],
   "source": [
    "mat = matriz_newton(pontos2)\n",
    "print('Matriz de Newton (Diferença Dividas):')\n",
    "print(mat)"
   ]
  },
  {
   "cell_type": "code",
   "execution_count": 218,
   "id": "e72c3adc-25c8-48bf-9d16-83166f47ffc7",
   "metadata": {
    "tags": []
   },
   "outputs": [],
   "source": [
    "def polinomio_newton(mat,valor,**kwargs):\n",
    "    '''Interpola o polinomio de Newton com \n",
    "    a matriz das diferenças dividas'''\n",
    "    \n",
    "    # Defini o grau da interpolação.  \n",
    "    # Senão for passado o grau faz por padrão para 2 Ordem.\n",
    "    grau = kwargs.get('grau', 2)\n",
    "\n",
    "    #+2 para poder ter a coluna certa na matriz\n",
    "    coluna_grau = grau+2\n",
    "    \n",
    "    # Defini o ponto inicial para interpolar, \n",
    "    # Senão for passado inicio começa do 0.\n",
    "    inicio = kwargs.get('inicio', 0)\n",
    "        \n",
    "    i = inicio\n",
    "    soma = 0\n",
    "    for j in range(1,coluna_grau):\n",
    "        #Produtorio para a logica de interpolação de Newton\n",
    "        produto = 1\n",
    "        if j == 1:\n",
    "            soma += mat[i][j]\n",
    "        else:\n",
    "            for k in range(0,j):\n",
    "                produto = (valor-mat[k][0]) * produto\n",
    "            soma += produto*mat[i][j]\n",
    "    return soma"
   ]
  },
  {
   "cell_type": "code",
   "execution_count": 219,
   "id": "a3f93ffe-1bbc-4c19-9660-c8619dd4b31a",
   "metadata": {
    "tags": []
   },
   "outputs": [
    {
     "name": "stdout",
     "output_type": "stream",
     "text": [
      "Valor de log(10)(10) pela interpolação Newton 2 grau:\n",
      "1.0098466\n"
     ]
    }
   ],
   "source": [
    "valor_est = polinomio_newton(mat,10)\n",
    "print(f'Valor de log(10)(10) pela interpolação Newton 2 grau:\\n{valor_est}')"
   ]
  },
  {
   "cell_type": "code",
   "execution_count": 220,
   "id": "0a6c6ac5-7d87-4090-9f27-395d4af025ee",
   "metadata": {
    "tags": []
   },
   "outputs": [
    {
     "name": "stdout",
     "output_type": "stream",
     "text": [
      "Erro relativo percentual:0.9846599999999928%\n"
     ]
    }
   ],
   "source": [
    "val_esp = math.log(10,10)\n",
    "erro_rel = abs(valor_esp - valor_est)/abs(valor_esp)\n",
    "print(f'Erro relativo percentual:{erro_rel*100}%')"
   ]
  },
  {
   "cell_type": "markdown",
   "id": "938b8f6d-4d42-4644-a391-0f64de61b6bb",
   "metadata": {
    "jp-MarkdownHeadingCollapsed": true,
    "tags": []
   },
   "source": [
    "<div class=\"markdown-google-sans\">\n",
    "  <h1>Questão 3</h1>\n",
    "</div>\n",
    "\n",
    "|  x  | 1,6 |  2  | 2,5 | 3,2 |  4  | 4,5 |\n",
    "|-----|-----|-----|-----|-----|-----|-----|\n",
    "| f(x)|  2  |  8  | 14  | 15  |  8  |  2  |\n"
   ]
  },
  {
   "cell_type": "code",
   "execution_count": 58,
   "id": "0514a314-f52c-4bbc-a8b0-a8742210783b",
   "metadata": {
    "tags": []
   },
   "outputs": [
    {
     "name": "stdin",
     "output_type": "stream",
     "text": [
      "Quantos pontos vai ser utilizado?: 6\n"
     ]
    }
   ],
   "source": [
    "npontos = int(input('Quantos pontos vai ser utilizado?:'))"
   ]
  },
  {
   "cell_type": "code",
   "execution_count": 73,
   "id": "98161bab-1a43-49f6-8221-21c2bed18919",
   "metadata": {
    "tags": []
   },
   "outputs": [
    {
     "name": "stdin",
     "output_type": "stream",
     "text": [
      "Digite o valor do x0: 1.6\n",
      "Digite o valor do x1: 2\n",
      "Digite o valor do x2: 2.5\n",
      "Digite o valor do x3: 3.2\n",
      "Digite o valor do x4: 4\n",
      "Digite o valor do x5: 4.5\n",
      "Digite o valor de fx0: 2\n",
      "Digite o valor de fx1: 8\n",
      "Digite o valor de fx2: 14\n",
      "Digite o valor de fx3: 15\n",
      "Digite o valor de fx4: 8\n",
      "Digite o valor de fx5: 2\n"
     ]
    },
    {
     "name": "stdout",
     "output_type": "stream",
     "text": [
      "\n",
      "xi:[1.6 2.  2.5 3.2 4.  4.5]\n",
      "\n",
      "yi:[ 2.  8. 14. 15.  8.  2.]\n"
     ]
    }
   ],
   "source": [
    "pontos3 = np.zeros([npontos,2],dtype='float')\n",
    "for j in range(0,2):\n",
    "    for i in range(0,npontos):\n",
    "        if j == 0:\n",
    "            pontos3[i,j] = float(input(f'Digite o valor do x{i}:'))\n",
    "        elif j == 1:\n",
    "            pontos3[i,j] = float(input(f'Digite o valor de fx{i}:'))\n",
    "print(f'\\nxi:{pontos3[:,0]}\\n')\n",
    "print(f'yi:{pontos3[:,1]}')"
   ]
  },
  {
   "cell_type": "code",
   "execution_count": 221,
   "id": "47c00cb9-8f86-4de1-9970-020a60dd03f8",
   "metadata": {
    "tags": []
   },
   "outputs": [
    {
     "name": "stdout",
     "output_type": "stream",
     "text": [
      "Matriz de Newton (Diferença Dividas):\n",
      "[[  1.6          2.          15.          -3.33333333  -3.42261905\n",
      "    1.84771825  -0.48115079]\n",
      " [  2.           8.          12.          -8.80952381   1.01190476\n",
      "    0.45238095   0.        ]\n",
      " [  2.5         14.           1.42857143  -6.78571429   2.14285714\n",
      "    0.           0.        ]\n",
      " [  3.2         15.          -8.75        -2.5          0.\n",
      "    0.           0.        ]\n",
      " [  4.           8.         -12.           0.           0.\n",
      "    0.           0.        ]\n",
      " [  4.5          2.           0.           0.           0.\n",
      "    0.           0.        ]]\n"
     ]
    }
   ],
   "source": [
    "mat = matriz_newton(pontos3)\n",
    "print('Matriz de Newton (Diferença Dividas):')\n",
    "print(mat)"
   ]
  },
  {
   "cell_type": "markdown",
   "id": "3e654ba9-b842-4c14-aaaf-d1cb83b67955",
   "metadata": {
    "tags": []
   },
   "source": [
    "<div class=\"markdown-google-sans\">\n",
    "  <h2>Item a)</h2>\n",
    "</div>\n",
    "\n",
    "Calcule f(2,8) usando polinômios interpoladores de Newton de primeiro a terceiro\n",
    "graus. Escolha a sequência de pontos para fazer sua estimativa de modo a atingir\n",
    "a melhor acurácia possível."
   ]
  },
  {
   "cell_type": "markdown",
   "id": "83c1470f-c432-489c-bba8-bd15cf78ca3f",
   "metadata": {
    "tags": []
   },
   "source": [
    "<div class=\"markdown-google-sans\">\n",
    "  <h3>Primeira Ordem</h3>\n",
    "</div>\n",
    "\n",
    "vou começar pelo ponto 2.5 pois está mais próximo de 2.8, logo inicio = 2, pois 2 é o número da posição do 2.5 no vetor."
   ]
  },
  {
   "cell_type": "code",
   "execution_count": 222,
   "id": "493dfb2c-1ba1-4b13-b324-0e216c1b3bc5",
   "metadata": {
    "tags": []
   },
   "outputs": [
    {
     "name": "stdout",
     "output_type": "stream",
     "text": [
      "f(2.8) começando por 2.5:\n",
      "15.37142857142857\n"
     ]
    }
   ],
   "source": [
    "valor1 = polinomio_newton(mat,2.8,grau=1,inicio=2)\n",
    "print(f'f(2.8) começando por {pontos3[2,0]}:\\n{valor1}')"
   ]
  },
  {
   "cell_type": "markdown",
   "id": "08077078-c482-4893-84b8-2126e7697102",
   "metadata": {},
   "source": [
    "<div class=\"markdown-google-sans\">\n",
    "  <h3>Segunda Ordem</h3>\n",
    "</div>"
   ]
  },
  {
   "cell_type": "code",
   "execution_count": 223,
   "id": "2886dae1-0542-44a3-8566-29c6a78ee9ae",
   "metadata": {
    "tags": []
   },
   "outputs": [
    {
     "name": "stdout",
     "output_type": "stream",
     "text": [
      "f(2.8) começando por 2.0:\n",
      "16.982857142857142\n"
     ]
    }
   ],
   "source": [
    "valor2 = polinomio_newton(mat,2.8,grau=2,inicio=1)\n",
    "print(f'f(2.8) começando por {pontos3[1,0]}:\\n{valor2}')"
   ]
  },
  {
   "cell_type": "markdown",
   "id": "a8521959-c221-4a30-81e8-e6d41836cf43",
   "metadata": {},
   "source": [
    "<div class=\"markdown-google-sans\">\n",
    "  <h3>Terceira Ordem</h3>\n",
    "</div>"
   ]
  },
  {
   "cell_type": "code",
   "execution_count": 224,
   "id": "4d224683-414e-459a-bfef-6fedb26dd8c9",
   "metadata": {
    "tags": []
   },
   "outputs": [
    {
     "name": "stdout",
     "output_type": "stream",
     "text": [
      "f(2.8) começando por 2.0:\n",
      "16.866285714285713\n"
     ]
    }
   ],
   "source": [
    "valor3 = polinomio_newton(mat,2.8,grau=3,inicio=1)\n",
    "print(f'f(2.8) começando por {pontos3[1,0]}:\\n{valor3}')"
   ]
  },
  {
   "cell_type": "markdown",
   "id": "35a2ffa2-b3f6-4cf4-b14f-3d2405032493",
   "metadata": {},
   "source": [
    "<div class=\"markdown-google-sans\">\n",
    "  <h2>Item b)</h2>\n",
    "</div>\n",
    "\n",
    "Utilize a equação Rn = f n+1 (x) − f n (x) para fazer uma estimativa do erro em\n",
    "cada previsão."
   ]
  },
  {
   "cell_type": "markdown",
   "id": "0b101fe1-b683-481a-b7e2-17d6c1316047",
   "metadata": {
    "tags": []
   },
   "source": [
    "<div class=\"markdown-google-sans\">\n",
    "  <h3>Erro Primeira Ordem</h3>\n",
    "</div>"
   ]
  },
  {
   "cell_type": "code",
   "execution_count": 225,
   "id": "df0ac397-1518-4668-ab85-f68913ef2c35",
   "metadata": {
    "tags": []
   },
   "outputs": [
    {
     "name": "stdout",
     "output_type": "stream",
     "text": [
      "R1 = 1.611428571428572\n"
     ]
    }
   ],
   "source": [
    "print(f'R1 = {abs(valor2-valor1)}') "
   ]
  },
  {
   "cell_type": "markdown",
   "id": "2e447288-2d2e-4d09-a10a-0d4dea6b42d9",
   "metadata": {
    "tags": []
   },
   "source": [
    "<div class=\"markdown-google-sans\">\n",
    "  <h3>Erro Segunda Ordem</h3>\n",
    "</div>"
   ]
  },
  {
   "cell_type": "code",
   "execution_count": 226,
   "id": "6bd496e5-65f6-4be7-9d47-eb2596e15d41",
   "metadata": {
    "tags": []
   },
   "outputs": [
    {
     "name": "stdout",
     "output_type": "stream",
     "text": [
      "R2 = 0.11657142857142944\n"
     ]
    }
   ],
   "source": [
    "print(f'R2 = {abs(valor3-valor2)}') "
   ]
  },
  {
   "cell_type": "markdown",
   "id": "bc81e072-dddd-4142-ac08-0b505c0b370a",
   "metadata": {
    "tags": []
   },
   "source": [
    "<div class=\"markdown-google-sans\">\n",
    "  <h3>Erro Terceira Ordem</h3>\n",
    "</div>"
   ]
  },
  {
   "cell_type": "code",
   "execution_count": 227,
   "id": "cb99542d-d0af-4c6c-8105-6813a98bdbb6",
   "metadata": {
    "tags": []
   },
   "outputs": [
    {
     "name": "stdout",
     "output_type": "stream",
     "text": [
      "R3 = 0.06253714285714196\n"
     ]
    }
   ],
   "source": [
    "valor4 = polinomio_newton(mat,2.8,grau=4,inicio=1)\n",
    "print(f'R3 = {abs(valor4-valor3)}') "
   ]
  },
  {
   "cell_type": "markdown",
   "id": "65158912-240f-4d49-9f58-31c7fce601e8",
   "metadata": {
    "jp-MarkdownHeadingCollapsed": true,
    "tags": []
   },
   "source": [
    "<div class=\"markdown-google-sans\">\n",
    "  <h1>Questão 4</h1>\n",
    "</div>\n",
    "\n",
    "|  x  | 1   |  2  | 3   | 5   |  7  | 8   |\n",
    "|-----|-----|-----|-----|-----|-----|-----|\n",
    "| f(x)|  3  |  6  | 19  | 99  |  291| 444 |\n",
    "\n",
    "Calcule f(4) usando polinômios interpoladores de Newton de primeiro a quarto graus.\n",
    "Escolha seus pontos base para obter uma boa acurácia. O que seus resultados indicam em\n",
    "relação ao grau do polinômio usado para gerar os resultados da tabela?"
   ]
  },
  {
   "cell_type": "code",
   "execution_count": 232,
   "id": "062c8d4a-4f33-46bd-8c30-ca14306de9c5",
   "metadata": {
    "tags": []
   },
   "outputs": [
    {
     "name": "stdin",
     "output_type": "stream",
     "text": [
      "Quantos pontos vai ser utilizado?: 6\n"
     ]
    }
   ],
   "source": [
    "npontos = int(input('Quantos pontos vai ser utilizado?:'))"
   ]
  },
  {
   "cell_type": "code",
   "execution_count": 90,
   "id": "2eeee591-5dcb-48b1-842f-45eb19372847",
   "metadata": {
    "tags": []
   },
   "outputs": [
    {
     "name": "stdin",
     "output_type": "stream",
     "text": [
      "Digite o valor do x0: 1\n",
      "Digite o valor do x1: 2\n",
      "Digite o valor do x2: 3\n",
      "Digite o valor do x3: 5\n",
      "Digite o valor do x4: 7\n",
      "Digite o valor do x5: 8\n",
      "Digite o valor de fx0: 3\n",
      "Digite o valor de fx1: 6\n",
      "Digite o valor de fx2: 19\n",
      "Digite o valor de fx3: 99\n",
      "Digite o valor de fx4: 291\n",
      "Digite o valor de fx5: 444\n"
     ]
    },
    {
     "name": "stdout",
     "output_type": "stream",
     "text": [
      "\n",
      "xi:[1. 2. 3. 5. 7. 8.]\n",
      "\n",
      "yi:[  3.   6.  19.  99. 291. 444.]\n"
     ]
    }
   ],
   "source": [
    "pontos4 = np.zeros([npontos,2],dtype='float')\n",
    "for j in range(0,2):\n",
    "    for i in range(0,npontos):\n",
    "        if j == 0:\n",
    "            pontos4[i,j] = float(input(f'Digite o valor do x{i}:'))\n",
    "        elif j == 1:\n",
    "            pontos4[i,j] = float(input(f'Digite o valor de fx{i}:'))\n",
    "print(f'\\nxi:{pontos4[:,0]}\\n')\n",
    "print(f'yi:{pontos4[:,1]}')"
   ]
  },
  {
   "cell_type": "code",
   "execution_count": 231,
   "id": "844b92e0-e0b0-4e11-9499-a8949c682fc2",
   "metadata": {
    "tags": []
   },
   "outputs": [
    {
     "name": "stdout",
     "output_type": "stream",
     "text": [
      "Matriz de Newton (Diferença Dividas):\n",
      "[[  1.   3.   3.   5.   1.   0.   0.]\n",
      " [  2.   6.  13.   9.   1.   0.   0.]\n",
      " [  3.  19.  40.  14.   1.   0.   0.]\n",
      " [  5.  99.  96.  19.   0.   0.   0.]\n",
      " [  7. 291. 153.   0.   0.   0.   0.]\n",
      " [  8. 444.   0.   0.   0.   0.   0.]]\n"
     ]
    }
   ],
   "source": [
    "mat = matriz_newton(pontos4)\n",
    "print('Matriz de Newton (Diferença Dividas):')\n",
    "print(mat)"
   ]
  },
  {
   "cell_type": "code",
   "execution_count": 235,
   "id": "e4eb02ba-c759-4da8-a1b7-43564f5f4688",
   "metadata": {
    "tags": []
   },
   "outputs": [],
   "source": [
    "def plotar_newton(mat):\n",
    "    xx=np.linspace(min(mat[:,0]),max(mat[:,0]),1000)\n",
    "    yy=[]\n",
    "    for x in xx:\n",
    "        soma=mat[0,1]\n",
    "        k=1\n",
    "        z=0\n",
    "        p=1\n",
    "        while k < npontos:\n",
    "        \n",
    "            while z < k:\n",
    "                p=p*(x-mat[z,0])   \n",
    "                z=z+1\n",
    "            soma=soma+p*mat[0,k+1] \n",
    "            k=k+1\n",
    "        yy.append(soma)  \n",
    "    plt.plot(xx, yy, label=\"Polinomio Interpolador\")\n",
    "    plt.plot(mat[:,0], mat[:,1], 'o', label=\"Pontos dados\")\n",
    "    plt.plot(4, 51, 'o', label=\"Pontos dados\")\n",
    "    "
   ]
  },
  {
   "cell_type": "code",
   "execution_count": 236,
   "id": "2acc896c-9ca0-463f-8a70-67b5e65968d1",
   "metadata": {
    "tags": []
   },
   "outputs": [
    {
     "data": {
      "image/png": "[encoded data removed]",
      "text/plain": [
       "<Figure size 640x480 with 1 Axes>"
      ]
     },
     "metadata": {},
     "output_type": "display_data"
    }
   ],
   "source": [
    "plotar_newton(mat)"
   ]
  },
  {
   "cell_type": "markdown",
   "id": "3d72c78d-ed4c-439b-b965-24b827331cc1",
   "metadata": {
    "tags": []
   },
   "source": [
    "<div class=\"markdown-google-sans\">\n",
    "  <h2>Primeiro grau</h2>\n",
    "</div>"
   ]
  },
  {
   "cell_type": "code",
   "execution_count": 237,
   "id": "0d1031ed-a504-48d9-8462-3e953d8315f2",
   "metadata": {
    "tags": []
   },
   "outputs": [
    {
     "name": "stdout",
     "output_type": "stream",
     "text": [
      "f(4) começando por 2.0:\n",
      "84.0\n"
     ]
    }
   ],
   "source": [
    "valor1 = polinomio_newton(mat,4,grau=1,inicio=1)\n",
    "print(f'f(4) começando por {pontos4[1,0]}:\\n{valor1}')"
   ]
  },
  {
   "cell_type": "markdown",
   "id": "dd42c6f2-4c3e-4691-a8da-eb09c1266949",
   "metadata": {
    "tags": []
   },
   "source": [
    "<div class=\"markdown-google-sans\">\n",
    "  <h2>Segundo grau</h2>\n",
    "</div>"
   ]
  },
  {
   "cell_type": "code",
   "execution_count": 238,
   "id": "2223dc51-f220-44dc-b6fa-2cfb65acf7dc",
   "metadata": {
    "tags": []
   },
   "outputs": [
    {
     "name": "stdout",
     "output_type": "stream",
     "text": [
      "f(4) começando por 1.0:\n",
      "51.0\n"
     ]
    }
   ],
   "source": [
    "valor2 = polinomio_newton(mat,4,grau=2,inicio=0)\n",
    "print(f'f(4) começando por {pontos4[0,0]}:\\n{valor2}')"
   ]
  },
  {
   "cell_type": "markdown",
   "id": "0d47869e-f588-448c-bc15-4f34f100499b",
   "metadata": {
    "tags": []
   },
   "source": [
    "<div class=\"markdown-google-sans\">\n",
    "  <h2>Terceiro grau</h2>\n",
    "</div>"
   ]
  },
  {
   "cell_type": "code",
   "execution_count": 239,
   "id": "897e8d48-80bb-4048-aace-75d3b655e123",
   "metadata": {
    "tags": []
   },
   "outputs": [
    {
     "name": "stdout",
     "output_type": "stream",
     "text": [
      "f(4) começando por 1.0:\n",
      "45.0\n"
     ]
    }
   ],
   "source": [
    "valor3 = polinomio_newton(mat,4,grau=3,inicio=0)\n",
    "print(f'f(4) começando por {pontos4[0,0]}:\\n{valor3}')"
   ]
  },
  {
   "cell_type": "markdown",
   "id": "b4907ae6-e916-46ff-b702-b54019ed6b2e",
   "metadata": {
    "tags": []
   },
   "source": [
    "<div class=\"markdown-google-sans\">\n",
    "  <h2>Quarto grau</h2>\n",
    "</div>"
   ]
  },
  {
   "cell_type": "code",
   "execution_count": 240,
   "id": "f3d44052-6705-43a9-92e1-a213defe7843",
   "metadata": {
    "tags": []
   },
   "outputs": [
    {
     "name": "stdout",
     "output_type": "stream",
     "text": [
      "f(4) começando por 1.0:\n",
      "45.0\n"
     ]
    }
   ],
   "source": [
    "valor4 = polinomio_newton(mat,4,grau=4,inicio=0)\n",
    "print(f'f(4) começando por {pontos4[0,0]}:\\n{valor4}')"
   ]
  },
  {
   "cell_type": "markdown",
   "id": "abdc8b11-178d-4bdb-a66f-85e694dbaea8",
   "metadata": {
    "tags": []
   },
   "source": [
    "<div class=\"markdown-google-sans\">\n",
    "  <h1>Questão 5</h1>\n",
    "</div>\n",
    "\n",
    "Repita os problemas 1 a 4, usando polinômios de Lagrange. Nas questões 3 e 4,\n",
    "use polinômios de Lagrange de primeiro a terceiro graus."
   ]
  },
  {
   "cell_type": "code",
   "execution_count": 269,
   "id": "ab3f4ff4-a027-42a2-906b-b3f7ff8c781f",
   "metadata": {
    "tags": []
   },
   "outputs": [],
   "source": [
    "def lagrange(A, x, **kwargs):\n",
    "    grau = kwargs.get('grau', len(A)-1)  # Usa grau diretamente se fornecido, senão usa o número de pontos\n",
    "\n",
    "    inicio = kwargs.get('inicio', 0)\n",
    "\n",
    "    if not isinstance(grau, int) or grau < 1 or inicio < 0 or inicio >= len(A):\n",
    "        raise ValueError(\"Os argumentos grau e inicio devem ser inteiros válidos.\")\n",
    "\n",
    "    k = inicio\n",
    "    soma = 0\n",
    "    \n",
    "    if k + grau > len(A):\n",
    "        raise ValueError(\"A soma de k e grau não deve ultrapassar o comprimento de A.\")\n",
    "    \n",
    "    for i in range(k, grau + k+1):  # Começa a partir do valor de k e limita o loop ao número correto de iterações\n",
    "        l = 1\n",
    "        for j in range(k, grau + k+1):  # Começa a partir do valor de k\n",
    "            if j != i:\n",
    "                l *= (x - A[j][0]) / (A[i][0] - A[j][0])\n",
    "        soma += (l * A[i][1])\n",
    "\n",
    "    return soma\n"
   ]
  },
  {
   "cell_type": "markdown",
   "id": "b1c2eb95-1648-47e5-bcc6-b75687a744f2",
   "metadata": {
    "jp-MarkdownHeadingCollapsed": true,
    "tags": []
   },
   "source": [
    "<div class=\"markdown-google-sans\">\n",
    "  <h2>Problema 1</h2>\n",
    "</div>"
   ]
  },
  {
   "cell_type": "markdown",
   "id": "62c39ac9-6f67-481d-9cbc-59e11a2d4d67",
   "metadata": {
    "tags": []
   },
   "source": [
    "<div class=\"markdown-google-sans\">\n",
    "  <h3>Item a)</h3>\n",
    "</div>\n"
   ]
  },
  {
   "cell_type": "code",
   "execution_count": 244,
   "id": "8ee989c4-ca7c-4ff9-9b32-cec187cb66d6",
   "metadata": {
    "tags": []
   },
   "outputs": [
    {
     "name": "stdout",
     "output_type": "stream",
     "text": [
      "Valor de log(10)(10) por lagrange :0.9911356\n",
      "Erro relativo percentual:0.008864399999999995%\n"
     ]
    }
   ],
   "source": [
    "valor_est = lagrange(pontos1a,10)\n",
    "print(f'Valor de log(10)(10) por lagrange :{valor_est}')\n",
    "valor_esp = math.log(10,10)\n",
    "erro_rel = abs(valor_esp - valor_est)/abs(valor_esp)\n",
    "print(f'Erro relativo percentual:{erro_rel}%')"
   ]
  },
  {
   "cell_type": "markdown",
   "id": "6d6d8b20-1db1-4fb6-87d2-488dab6af342",
   "metadata": {
    "tags": []
   },
   "source": [
    "<div class=\"markdown-google-sans\">\n",
    "  <h3>Item b)</h3>\n",
    "</div>"
   ]
  },
  {
   "cell_type": "code",
   "execution_count": 246,
   "id": "aa6c9212-b516-47a4-9056-7f08f292686d",
   "metadata": {
    "tags": []
   },
   "outputs": [
    {
     "name": "stdout",
     "output_type": "stream",
     "text": [
      "Valor de log(10)(10) por lagrange :0.9987176\n",
      "Erro relativo percentual:0.0012824000000000169%\n"
     ]
    }
   ],
   "source": [
    "valor_est = lagrange(pontos1b,10)\n",
    "print(f'Valor de log(10)(10) por lagrange :{valor_est}')\n",
    "valor_esp = math.log(10,10)\n",
    "erro_rel = abs(valor_esp - valor_est)/abs(valor_esp)\n",
    "print(f'Erro relativo percentual:{erro_rel}%')"
   ]
  },
  {
   "cell_type": "markdown",
   "id": "efe431e9-d557-4359-a6d1-5b6020a259d1",
   "metadata": {
    "jp-MarkdownHeadingCollapsed": true,
    "tags": []
   },
   "source": [
    "<div class=\"markdown-google-sans\">\n",
    "  <h2>Problema 2</h2>\n",
    "</div>"
   ]
  },
  {
   "cell_type": "code",
   "execution_count": 247,
   "id": "46dd929b-680c-416f-b1e4-ca1c8b8366ff",
   "metadata": {
    "tags": []
   },
   "outputs": [
    {
     "name": "stdout",
     "output_type": "stream",
     "text": [
      "Erro relativo percentual:0.09433999999999276%\n"
     ]
    }
   ],
   "source": [
    "valor_est = lagrange(pontos2,10,grau=2)\n",
    "val_esp = math.log(10,10)\n",
    "erro_rel = abs(valor_esp - valor_est)/abs(valor_esp)\n",
    "print(f'Erro relativo percentual:{erro_rel*100}%')"
   ]
  },
  {
   "cell_type": "markdown",
   "id": "e65accb3-420f-4d6c-bace-cda257129814",
   "metadata": {
    "jp-MarkdownHeadingCollapsed": true,
    "tags": []
   },
   "source": [
    "<div class=\"markdown-google-sans\">\n",
    "  <h2>Problema 3</h2>\n",
    "</div>"
   ]
  },
  {
   "cell_type": "markdown",
   "id": "0116e742-5322-4be4-9f2b-cc6c2b4b2767",
   "metadata": {
    "jp-MarkdownHeadingCollapsed": true,
    "tags": []
   },
   "source": [
    "<div class=\"markdown-google-sans\">\n",
    "  <h3>Item a)</h3>\n",
    "</div>"
   ]
  },
  {
   "cell_type": "markdown",
   "id": "29aac4f3-234c-4cd2-86ed-1dc6fd484fe0",
   "metadata": {},
   "source": [
    "<div class=\"markdown-google-sans\">\n",
    "  <h4>Primeira Ordem</h4>\n",
    "</div>"
   ]
  },
  {
   "cell_type": "code",
   "execution_count": 249,
   "id": "12514e0d-199c-4a80-8503-680e766974f9",
   "metadata": {
    "tags": []
   },
   "outputs": [
    {
     "name": "stdout",
     "output_type": "stream",
     "text": [
      "f(2.8) começando por 2.5:\n",
      "14.428571428571429\n"
     ]
    }
   ],
   "source": [
    "valor1 = lagrange(pontos3,2.8,grau=1,inicio=2)\n",
    "print(f'f(2.8) começando por {pontos3[2,0]}:\\n{valor1}')"
   ]
  },
  {
   "cell_type": "markdown",
   "id": "67c868a7-0a4d-4472-92ae-fd3845f2ac8d",
   "metadata": {},
   "source": [
    "<div class=\"markdown-google-sans\">\n",
    "  <h4>Segunda Ordem</h4>\n",
    "</div>"
   ]
  },
  {
   "cell_type": "code",
   "execution_count": 250,
   "id": "d3fd05e5-954c-4aaf-847b-5cb598ce78ca",
   "metadata": {
    "tags": []
   },
   "outputs": [
    {
     "name": "stdout",
     "output_type": "stream",
     "text": [
      "f(2.8) começando por 2.0:\n",
      "15.485714285714288\n"
     ]
    }
   ],
   "source": [
    "valor2 = lagrange(pontos3,2.8,grau=2,inicio=1)\n",
    "print(f'f(2.8) começando por {pontos3[1,0]}:\\n{valor2}')"
   ]
  },
  {
   "cell_type": "markdown",
   "id": "2c2fb20c-59e1-42a3-b57d-2904cf04dd63",
   "metadata": {},
   "source": [
    "<div class=\"markdown-google-sans\">\n",
    "  <h4>Terceira Ordem</h4>\n",
    "</div>"
   ]
  },
  {
   "cell_type": "code",
   "execution_count": 251,
   "id": "cd0772c9-03cb-4383-92b8-e4d1a202094e",
   "metadata": {
    "tags": []
   },
   "outputs": [
    {
     "name": "stdout",
     "output_type": "stream",
     "text": [
      "f(2.8) começando por 2.0:\n",
      "15.388571428571428\n"
     ]
    }
   ],
   "source": [
    "valor3 = lagrange(pontos3,2.8,grau=3,inicio=1)\n",
    "print(f'f(2.8) começando por {pontos3[1,0]}:\\n{valor3}')"
   ]
  },
  {
   "cell_type": "markdown",
   "id": "c80398ce-44fd-4456-968f-fb008b3c3867",
   "metadata": {
    "tags": []
   },
   "source": [
    "<div class=\"markdown-google-sans\">\n",
    "  <h3>Item b)</h3>\n",
    "</div>"
   ]
  },
  {
   "cell_type": "markdown",
   "id": "e08733dd-3f9a-464e-97a8-90c8e6200ec7",
   "metadata": {},
   "source": [
    "<div class=\"markdown-google-sans\">\n",
    "  <h4>Erro Primeira Ordem</h4>\n",
    "</div>"
   ]
  },
  {
   "cell_type": "code",
   "execution_count": 252,
   "id": "b5c81343-856b-4d3d-bee2-3e232576e408",
   "metadata": {
    "tags": []
   },
   "outputs": [
    {
     "name": "stdout",
     "output_type": "stream",
     "text": [
      "R1 = 1.0571428571428587\n"
     ]
    }
   ],
   "source": [
    "print(f'R1 = {abs(valor2-valor1)}') "
   ]
  },
  {
   "cell_type": "markdown",
   "id": "6a444303-f7a2-45ad-806e-7ab7c706bc2f",
   "metadata": {},
   "source": [
    "<div class=\"markdown-google-sans\">\n",
    "  <h4>Erro Segunda Ordem</h4>\n",
    "</div>"
   ]
  },
  {
   "cell_type": "code",
   "execution_count": 253,
   "id": "f8183a80-1027-43fe-8aa7-8c0535e8d2cf",
   "metadata": {
    "tags": []
   },
   "outputs": [
    {
     "name": "stdout",
     "output_type": "stream",
     "text": [
      "R2 = 0.09714285714285964\n"
     ]
    }
   ],
   "source": [
    "print(f'R2 = {abs(valor3-valor2)}') "
   ]
  },
  {
   "cell_type": "markdown",
   "id": "bb519e59-74dd-4d51-acd3-a784baf2dc8b",
   "metadata": {},
   "source": [
    "<div class=\"markdown-google-sans\">\n",
    "  <h4>Erro Terceira Ordem</h4>\n",
    "</div>"
   ]
  },
  {
   "cell_type": "code",
   "execution_count": 254,
   "id": "d106f24b-88f7-458d-aca9-8c0a5bad9e17",
   "metadata": {
    "tags": []
   },
   "outputs": [
    {
     "name": "stdout",
     "output_type": "stream",
     "text": [
      "R3 = 0.05211428571428556\n"
     ]
    }
   ],
   "source": [
    "valor4 = lagrange(pontos3,2.8,grau=4,inicio=1)\n",
    "print(f'R3 = {abs(valor4-valor3)}') "
   ]
  },
  {
   "cell_type": "markdown",
   "id": "5a3438d5-9b6e-4a38-a604-a0c84df865cc",
   "metadata": {
    "jp-MarkdownHeadingCollapsed": true,
    "tags": []
   },
   "source": [
    "<div class=\"markdown-google-sans\">\n",
    "  <h2>Problema 4</h2>\n",
    "</div>"
   ]
  },
  {
   "cell_type": "markdown",
   "id": "ad17a6a2-3002-4c9c-b193-0fe62a654880",
   "metadata": {
    "tags": []
   },
   "source": [
    "<div class=\"markdown-google-sans\">\n",
    "  <h3>Primeiro grau</h3>\n",
    "</div>"
   ]
  },
  {
   "cell_type": "code",
   "execution_count": 255,
   "id": "b38821f0-141d-45c7-a1f7-fde60cea2e2b",
   "metadata": {
    "tags": []
   },
   "outputs": [
    {
     "name": "stdout",
     "output_type": "stream",
     "text": [
      "f(4) começando por 2.0:\n",
      "32.0\n"
     ]
    }
   ],
   "source": [
    "valor1 = lagrange(pontos4,4,grau=1,inicio=1)\n",
    "print(f'f(4) começando por {pontos4[1,0]}:\\n{valor1}')"
   ]
  },
  {
   "cell_type": "markdown",
   "id": "95f34456-a27a-423c-b036-1f10d3ad6618",
   "metadata": {
    "tags": []
   },
   "source": [
    "<div class=\"markdown-google-sans\">\n",
    "  <h3>Segundo grau</h3>\n",
    "</div>"
   ]
  },
  {
   "cell_type": "code",
   "execution_count": 256,
   "id": "842fed67-98ac-4e8a-9e91-137e2c54b705",
   "metadata": {
    "tags": []
   },
   "outputs": [
    {
     "name": "stdout",
     "output_type": "stream",
     "text": [
      "f(4) começando por 1.0:\n",
      "42.0\n"
     ]
    }
   ],
   "source": [
    "valor2 = lagrange(pontos4,4,grau=2,inicio=0)\n",
    "print(f'f(4) começando por {pontos4[0,0]}:\\n{valor2}')"
   ]
  },
  {
   "cell_type": "markdown",
   "id": "4c5699c4-3797-43df-8603-a36f1a780b7b",
   "metadata": {
    "tags": []
   },
   "source": [
    "<div class=\"markdown-google-sans\">\n",
    "  <h3>Terceiro grau</h3>\n",
    "</div>"
   ]
  },
  {
   "cell_type": "code",
   "execution_count": 257,
   "id": "bc032f8a-1a27-4aa4-b204-7f9a373e42ff",
   "metadata": {
    "tags": []
   },
   "outputs": [
    {
     "name": "stdout",
     "output_type": "stream",
     "text": [
      "f(4) começando por 1.0:\n",
      "48.0\n"
     ]
    }
   ],
   "source": [
    "valor3 = lagrange(pontos4,4,grau=3,inicio=0)\n",
    "print(f'f(4) começando por {pontos4[0,0]}:\\n{valor3}')"
   ]
  },
  {
   "cell_type": "markdown",
   "id": "3d2e91e5-6303-4065-b4bb-be2e6dbba969",
   "metadata": {
    "tags": []
   },
   "source": [
    "<div class=\"markdown-google-sans\">\n",
    "  <h1>Questão 6</h1>\n",
    "</div>\n",
    "\n",
    "Use interpolação inversa por um polinômio interpolador cúbico e bissecção para\n",
    "determinar o valor de x que corresponde a f(x) = 0,23 para os seguintes dados tabulados:\n",
    "\n",
    "|  x   |  2  |    3   |   4  |  5  |    6   |    7   |\n",
    "|------|-----|--------|------|-----|--------|--------|\n",
    "| f(x) | 0.5 | 0.3333 | 0.25 | 0.2 | 0.1667 | 0.1429 |"
   ]
  },
  {
   "cell_type": "code",
   "execution_count": 258,
   "id": "ad4e300f-6e85-4c95-b42d-be0568f456ab",
   "metadata": {
    "tags": []
   },
   "outputs": [
    {
     "name": "stdin",
     "output_type": "stream",
     "text": [
      "Quantos pontos vai ser utilizado?: 6\n"
     ]
    }
   ],
   "source": [
    "npontos = int(input('Quantos pontos vai ser utilizado?:'))"
   ]
  },
  {
   "cell_type": "code",
   "execution_count": 279,
   "id": "8930a648-0f64-40b2-81fe-eab944fd0fcc",
   "metadata": {
    "tags": []
   },
   "outputs": [
    {
     "name": "stdin",
     "output_type": "stream",
     "text": [
      "Digite o valor do x0: 2\n",
      "Digite o valor do x1: 3\n",
      "Digite o valor do x2: 4\n",
      "Digite o valor do x3: 5\n",
      "Digite o valor do x4: 6\n",
      "Digite o valor do x5: 7\n",
      "Digite o valor de fx0: 0.5\n",
      "Digite o valor de fx1: 0.3333\n",
      "Digite o valor de fx2: 0.25\n",
      "Digite o valor de fx3: 0.2\n",
      "Digite o valor de fx4: 0.1667\n",
      "Digite o valor de fx5: 0.1429\n"
     ]
    },
    {
     "name": "stdout",
     "output_type": "stream",
     "text": [
      "\n",
      "xi:[2. 3. 4. 5. 6. 7.]\n",
      "\n",
      "yi:[0.5    0.3333 0.25   0.2    0.1667 0.1429]\n"
     ]
    }
   ],
   "source": [
    "pontos6 = np.zeros([npontos,2],dtype='float')\n",
    "for j in range(0,2):\n",
    "    for i in range(0,npontos):\n",
    "        if j == 0:\n",
    "            pontos6[i,j] = float(input(f'Digite o valor do x{i}:'))\n",
    "        elif j == 1:\n",
    "            pontos6[i,j] = float(input(f'Digite o valor de fx{i}:'))\n",
    "print(f'\\nxi:{pontos6[:,0]}\\n')\n",
    "print(f'yi:{pontos6[:,1]}')"
   ]
  },
  {
   "cell_type": "code",
   "execution_count": 282,
   "id": "7bd5e764-494f-49e4-bb94-a27a48cd540e",
   "metadata": {
    "tags": []
   },
   "outputs": [],
   "source": [
    "def g1(x, glinha=2, inic=0):\n",
    "    grau1 = glinha\n",
    "    inic1 = inic\n",
    "    return lagrange(pontos6,x,grau=grau1,inicio=inic) - 0.23"
   ]
  },
  {
   "cell_type": "code",
   "execution_count": 283,
   "id": "d22b3af7-8306-4da8-bacc-6155cae25560",
   "metadata": {
    "tags": []
   },
   "outputs": [],
   "source": [
    "def bisseccao(a,b,g,tol,maxiter=200,com = 0,gra=2):\n",
    "    inic = com\n",
    "    glinha = gra\n",
    "    fa = g(a,glinha,inic)\n",
    "    fb = g(b,glinha,inic)\n",
    "    xr = (a+b)/2\n",
    "    fxr = g(xr,glinha,inic)\n",
    "    erro = 1e6\n",
    "    it = 1\n",
    "    while it < maxiter and erro > tol:\n",
    "        if fa*fxr<0:\n",
    "            b = xr\n",
    "            fb = fxr\n",
    "        elif fb*fxr < 0:\n",
    "            a = xr\n",
    "            fa = fxr\n",
    "        elif fxr == 0:\n",
    "            return 0\n",
    "        xra = xr\n",
    "        xr = (a+b)/2\n",
    "        fxr = g(xr,glinha,inic)\n",
    "        erro = math.fabs(xr-xra)/math.fabs(xr)\n",
    "        it = it+1\n",
    "    return xr"
   ]
  },
  {
   "cell_type": "code",
   "execution_count": 294,
   "id": "124fdfec-c034-4110-8ce0-aef4b8265e72",
   "metadata": {
    "tags": []
   },
   "outputs": [
    {
     "name": "stdout",
     "output_type": "stream",
     "text": [
      "4.352813720703125\n"
     ]
    }
   ],
   "source": [
    "xr = bisseccao(4,6,g,1e-5,maxiter=50,com=2,gra=3)\n",
    "print(xr)"
   ]
  },
  {
   "cell_type": "markdown",
   "id": "08687d73-2f01-4f26-899e-71467e7e36e1",
   "metadata": {},
   "source": [
    "<div class=\"markdown-google-sans\">\n",
    "  <h1>Questão 7</h1>\n",
    "</div>\n",
    "\n",
    "Use interpolação inversa para determinar o valor de x que corresponde a f(x) =\n",
    "0,85, para os seguintes dados tabulados:\n",
    "    \n",
    "|   x   | 0 |   1   |   2   |   3   |     4      |     5      |\n",
    "|-------|---|-------|-------|-------|------------|------------|\n",
    "|  f(x) | 0 | 0,5   | 0,8   | 0,9   | 0,941176   | 0,961538   |\n",
    "\n",
    "x3\n",
    "Observe que os valores na tabela foram gerados pela função:<br> \n",
    "$$\\Large f(x) = \\frac{x^3}{2+x^3}$$\n",
    "\n",
    "Para os itens (b) a (d), calcule o erro relativo percentual verdadeiro.\n"
   ]
  },
  {
   "cell_type": "code",
   "execution_count": 277,
   "id": "95230708-bb0a-4486-afec-d7f7e4fe3f15",
   "metadata": {
    "tags": []
   },
   "outputs": [
    {
     "name": "stdin",
     "output_type": "stream",
     "text": [
      "Quantos pontos vai ser utilizado?: 6\n"
     ]
    }
   ],
   "source": [
    "npontos = int(input('Quantos pontos vai ser utilizado?:'))"
   ]
  },
  {
   "cell_type": "code",
   "execution_count": 278,
   "id": "d25c65b2-5ba6-43df-a71e-52596b2167bd",
   "metadata": {
    "tags": []
   },
   "outputs": [
    {
     "name": "stdin",
     "output_type": "stream",
     "text": [
      "Digite o valor do x0: 0\n",
      "Digite o valor do x1: 1\n",
      "Digite o valor do x2: 2\n",
      "Digite o valor do x3: 3\n",
      "Digite o valor do x4: 4\n",
      "Digite o valor do x5: 5\n",
      "Digite o valor de fx0: 0\n",
      "Digite o valor de fx1: 0.5\n",
      "Digite o valor de fx2: 0.8\n",
      "Digite o valor de fx3: 0.9\n",
      "Digite o valor de fx4: 0.941176\n",
      "Digite o valor de fx5: 0.961538\n"
     ]
    },
    {
     "name": "stdout",
     "output_type": "stream",
     "text": [
      "\n",
      "xi:[0. 1. 2. 3. 4. 5.]\n",
      "\n",
      "yi:[0.       0.5      0.8      0.9      0.941176 0.961538]\n"
     ]
    }
   ],
   "source": [
    "pontos7 = np.zeros([npontos,2],dtype='float')\n",
    "for j in range(0,2):\n",
    "    for i in range(0,npontos):\n",
    "        if j == 0:\n",
    "            pontos7[i,j] = float(input(f'Digite o valor do x{i}:'))\n",
    "        elif j == 1:\n",
    "            pontos7[i,j] = float(input(f'Digite o valor de fx{i}:'))\n",
    "print(f'\\nxi:{pontos7[:,0]}\\n')\n",
    "print(f'yi:{pontos7[:,1]}')"
   ]
  },
  {
   "cell_type": "markdown",
   "id": "0e42a624-8a41-45ff-a6c9-b64eaaf9eaba",
   "metadata": {
    "tags": []
   },
   "source": [
    "<div class=\"markdown-google-sans\">\n",
    "  <h2>Item a)</h2>\n",
    "</div>\n",
    "\n",
    " Determine o valor correto analiticamente"
   ]
  },
  {
   "cell_type": "markdown",
   "id": "016bb5a0-d32b-4966-86d4-8b232601a5b7",
   "metadata": {},
   "source": [
    "<div class=\"markdown-google-sans\">\n",
    "  <h2>Item b)</h2>\n",
    "</div>\n",
    "\n",
    "Use interpolação cúbica de x em função de y;"
   ]
  },
  {
   "cell_type": "markdown",
   "id": "8dc7a177-aad9-4948-84ab-784bc8d1b53e",
   "metadata": {},
   "source": [
    "<div class=\"markdown-google-sans\">\n",
    "  <h2>Item c)</h2>\n",
    "</div>\n",
    "\n",
    "Use interpolação inversa com interpolação quadrática e a fórmula quadrática."
   ]
  },
  {
   "cell_type": "markdown",
   "id": "d951914e-7041-4545-9922-59956107a210",
   "metadata": {},
   "source": [
    "<div class=\"markdown-google-sans\">\n",
    "  <h2>Item d)</h2>\n",
    "</div>\n",
    "\n",
    "\n",
    "Use interpolação inversa com interpolação cúbica e bissecção."
   ]
  },
  {
   "cell_type": "code",
   "execution_count": 295,
   "id": "3041a8f1-f04a-493c-a9fb-e16a062dda10",
   "metadata": {
    "tags": []
   },
   "outputs": [],
   "source": [
    "def g2(x, glinha=2, inic=0):\n",
    "    grau1 = glinha\n",
    "    inic1 = inic\n",
    "    return lagrange(pontos7,x,grau=grau1,inicio=inic) - 0.23"
   ]
  },
  {
   "cell_type": "code",
   "execution_count": 297,
   "id": "90c2c4fd-c138-428c-9823-b22a467af7ab",
   "metadata": {
    "tags": []
   },
   "outputs": [
    {
     "name": "stdout",
     "output_type": "stream",
     "text": [
      "2.0\n"
     ]
    }
   ],
   "source": [
    "xr = bisseccao(1,3,g2,1e-5,maxiter=100,com=1,gra=3)\n",
    "print(xr)"
   ]
  },
  {
   "cell_type": "code",
   "execution_count": null,
   "id": "fbcbf4f9-a06a-439c-9b75-3bab7d06a705",
   "metadata": {},
   "outputs": [],
   "source": []
  }
 ],
 "metadata": {
  "kernelspec": {
   "display_name": "Python 3 (ipykernel)",
   "language": "python",
   "name": "python3"
  },
  "language_info": {
   "codemirror_mode": {
    "name": "ipython",
    "version": 3
   },
   "file_extension": ".py",
   "mimetype": "text/x-python",
   "name": "python",
   "nbconvert_exporter": "python",
   "pygments_lexer": "ipython3",
   "version": "3.11.5"
  }
 },
 "nbformat": 4,
 "nbformat_minor": 5
}
