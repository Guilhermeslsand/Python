{
  "nbformat": 4,
  "nbformat_minor": 0,
  "metadata": {
    "colab": {
      "provenance": [],
      "authorship_tag": "ABX9TyMRaJJsJWY8rPN7VSTSSTS6",
      "include_colab_link": true
    },
    "kernelspec": {
      "name": "python3",
      "display_name": "Python 3"
    },
    "language_info": {
      "name": "python"
    }
  },
  "cells": [
    {
      "cell_type": "markdown",
      "metadata": {
        "id": "view-in-github",
        "colab_type": "text"
      },
      "source": [
        "<a href=\"https://colab.research.google.com/github/Guilhermeslsand/Python/blob/main/Aula_Pratica_6.ipynb\" target=\"_parent\"><img src=\"https://colab.research.google.com/assets/colab-badge.svg\" alt=\"Open In Colab\"/></a>"
      ]
    },
    {
      "cell_type": "code",
      "execution_count": 6,
      "metadata": {
        "id": "CmLXMJ9dg8pT"
      },
      "outputs": [],
      "source": [
        "import numpy as np\n",
        "import math\n",
        "import matplotlib.pyplot as plt\n"
      ]
    },
    {
      "cell_type": "code",
      "source": [
        "ordem = int(input(\"Ordem do do sistema: \"))"
      ],
      "metadata": {
        "colab": {
          "base_uri": "https://localhost:8080/"
        },
        "id": "n-l4gMZshXcA",
        "outputId": "a2bc314f-b699-42b8-9182-c14b923ec5b6"
      },
      "execution_count": 9,
      "outputs": [
        {
          "name": "stdout",
          "output_type": "stream",
          "text": [
            "Ordem do do sistema: 3\n"
          ]
        }
      ]
    },
    {
      "cell_type": "code",
      "source": [
        "A = np.zeros([ordem,ordem], dtype = 'float')"
      ],
      "metadata": {
        "id": "7AVAh64Ljb5x"
      },
      "execution_count": 10,
      "outputs": []
    },
    {
      "cell_type": "code",
      "source": [
        "for i in range(0,ordem):\n",
        "  for j in range(0,ordem):\n",
        "    A[i][j] = int(input(f'Elemento da possição ({i+1},{j+1}) da matriz A:'))"
      ],
      "metadata": {
        "colab": {
          "base_uri": "https://localhost:8080/"
        },
        "id": "gEWOWGBujSQZ",
        "outputId": "b9eb425e-3b32-4da5-99a7-fe8ea8d85bf8"
      },
      "execution_count": 11,
      "outputs": [
        {
          "name": "stdout",
          "output_type": "stream",
          "text": [
            "Elemento da possição (1,1) da matriz A:1\n",
            "Elemento da possição (1,2) da matriz A:2\n",
            "Elemento da possição (1,3) da matriz A:-1\n",
            "Elemento da possição (2,1) da matriz A:-1\n",
            "Elemento da possição (2,2) da matriz A:2\n",
            "Elemento da possição (2,3) da matriz A:0\n",
            "Elemento da possição (3,1) da matriz A:2\n",
            "Elemento da possição (3,2) da matriz A:1\n",
            "Elemento da possição (3,3) da matriz A:-1\n"
          ]
        }
      ]
    },
    {
      "cell_type": "code",
      "source": [
        "print(A)"
      ],
      "metadata": {
        "colab": {
          "base_uri": "https://localhost:8080/"
        },
        "id": "lrNg_UiqutmF",
        "outputId": "cc8140f4-8a0d-4498-df98-3d15689e9588"
      },
      "execution_count": 84,
      "outputs": [
        {
          "output_type": "stream",
          "name": "stdout",
          "text": [
            "[[ 1.  2. -1.]\n",
            " [-1.  2.  0.]\n",
            " [ 2.  1. -1.]]\n"
          ]
        }
      ]
    },
    {
      "cell_type": "code",
      "source": [
        "def elimina_gauss_piv(A,B):\n",
        "  Ac= np.copy(A)\n",
        "  Bc = np.copy(B)\n",
        "\n",
        "  for i in range(0,len(Ac)-1):\n",
        "    pivo = Ac[i,i]\n",
        "    z = i+1\n",
        "    achou = 0\n",
        "    linha = i\n",
        "    while  z < len(Ac):\n",
        "      if abs(Ac[z,i]) > abs(pivo):\n",
        "        pivo = Ac[z,i]\n",
        "        linha = z\n",
        "        achou = 1\n",
        "      z = z + 1\n",
        "    if achou == 1:\n",
        "      Aux = np.copy(Ac)\n",
        "      Ac[i,:] = np.copy(Ac[linha,:])\n",
        "      Ac[linha,:] = np.copy(Aux[i,:])\n",
        "      Aux = np.copy(Bc)\n",
        "      Bc[i] = np.copy(Bc[linha])\n",
        "      Bc[linha] = np.copy(Aux[i])\n",
        "\n",
        "    for j in (i+1,len(A)-1):\n",
        "      cofator = (-1)*Ac[j,i]/Ac[i,i]\n",
        "      Ac[j,:] = Ac[i,:]*cofator + Ac[j,:]\n",
        "      Bc[j] = Bc[i]*cofator + Bc[j]\n",
        "\n",
        "  return (Ac,Bc)"
      ],
      "metadata": {
        "id": "KUZqREsmkJrn"
      },
      "execution_count": 115,
      "outputs": []
    },
    {
      "cell_type": "code",
      "source": [
        "def calcula_sol_mat_sup(A,B):\n",
        "  xr = np.zeros([len(A),1],dtype='float')\n",
        "  idr = len(A)-1\n",
        "  while idr >= 0:\n",
        "    z = idr\n",
        "    soma = 0\n",
        "    while z < len(A)-1:\n",
        "      soma = soma+A[idr,z]*xr[z]\n",
        "      z = z + 1\n",
        "    xr[idr] = (B[idr]-soma)/A[idr,idr]\n",
        "    idr = idr - 1\n",
        "  return(xr)"
      ],
      "metadata": {
        "id": "9kcDVvZlmGNM"
      },
      "execution_count": 105,
      "outputs": []
    },
    {
      "cell_type": "code",
      "source": [
        "I = np.eye(3)\n",
        "B1 = I [:,0]\n",
        "B2 = I [:,1]\n",
        "B3 = I [:,2]\n"
      ],
      "metadata": {
        "id": "8hUX_Fw4kLKD"
      },
      "execution_count": 106,
      "outputs": []
    },
    {
      "cell_type": "code",
      "source": [
        "[Ac1,Bc1] = elimina_gauss_piv(A,B1)\n",
        "x1 = calcula_sol_mat_sup(Ac1,Bc1)\n",
        "[Ac2,Bc2] = elimina_gauss_piv(A,B2)\n",
        "x2 = calcula_sol_mat_sup(Ac2,Bc2)\n",
        "[Ac3,Bc3] = elimina_gauss_piv(A,B3)\n",
        "x3 = calcula_sol_mat_sup(Ac3,Bc3)"
      ],
      "metadata": {
        "colab": {
          "base_uri": "https://localhost:8080/"
        },
        "id": "FZBNP0J5mJ0t",
        "outputId": "2a469264-37c2-4c11-c3b3-0b193c0e7095"
      },
      "execution_count": 119,
      "outputs": [
        {
          "output_type": "stream",
          "name": "stdout",
          "text": [
            "[[ 2.   1.  -1. ]\n",
            " [ 0.   2.5 -0.5]\n",
            " [ 0.   0.  -0.2]]\n",
            "[ 1.   0.5 -0.8]\n"
          ]
        }
      ]
    },
    {
      "cell_type": "code",
      "source": [
        "sol = np.zeros([ordem,ordem], dtype = 'float')\n",
        "sol = np.concatenate((x1,x2,x3),axis=1)\n",
        "print(sol)"
      ],
      "metadata": {
        "colab": {
          "base_uri": "https://localhost:8080/"
        },
        "id": "NZETeb9SmMtx",
        "outputId": "cbbdb4d1-626d-48be-8f50-7935e9693bb5"
      },
      "execution_count": 117,
      "outputs": [
        {
          "output_type": "stream",
          "name": "stdout",
          "text": [
            "[[ 0.  -0.2  0.4]\n",
            " [ 0.   0.4  0.2]\n",
            " [-5.   3.   4. ]]\n"
          ]
        }
      ]
    },
    {
      "cell_type": "code",
      "source": [
        "print(np.linalg.inv (A))"
      ],
      "metadata": {
        "colab": {
          "base_uri": "https://localhost:8080/"
        },
        "id": "VTDKwcgmumE5",
        "outputId": "8e9feb6d-0dff-4ca9-d7f4-0efe0d5ec204"
      },
      "execution_count": 111,
      "outputs": [
        {
          "output_type": "stream",
          "name": "stdout",
          "text": [
            "[[-2.  1.  2.]\n",
            " [-1.  1.  1.]\n",
            " [-5.  3.  4.]]\n"
          ]
        }
      ]
    }
  ]
}