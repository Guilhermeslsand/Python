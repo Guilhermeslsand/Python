{
 "cells": [
  {
   "cell_type": "code",
   "execution_count": 1,
   "id": "ed6d25c1-6abc-4255-8deb-ef22ff8a9b44",
   "metadata": {},
   "outputs": [],
   "source": [
    "import matplotlib.pyplot as plt\n",
    "import numpy as np\n",
    "import math"
   ]
  },
  {
   "cell_type": "markdown",
   "id": "8760cea5-8c17-46c6-856e-8d002a2095f8",
   "metadata": {},
   "source": [
    "<h1>Questão 4</h1>"
   ]
  },
  {
   "cell_type": "code",
   "execution_count": 2,
   "id": "178bc94e-4615-4fb8-a4cc-0b47addf4824",
   "metadata": {},
   "outputs": [],
   "source": [
    "def trapezio (x1,x2,y1,y2):\n",
    "    h = x2 - x1\n",
    "    return (h/2) * (y2+y1)"
   ]
  },
  {
   "cell_type": "code",
   "execution_count": 3,
   "id": "610fe08e-8591-4fab-92ff-30beada64e0a",
   "metadata": {},
   "outputs": [],
   "source": [
    "def simpson13 (x1,x2,x3,y1,y2,y3):\n",
    "    h = x3-x1/2\n",
    "    return (h/3) * (y1+(4*y2)+y3)"
   ]
  },
  {
   "cell_type": "code",
   "execution_count": 4,
   "id": "4ac49979-dd9d-4706-83b9-1e8e858cf33c",
   "metadata": {},
   "outputs": [],
   "source": [
    "def simpson38 (x1,x2,x3,x4,y1,y2,y3,y4):\n",
    "    h = x4-x1/3\n",
    "    return ((3*h)/8) * (y1 + 3*y2 + 3*y3 + y4)"
   ]
  },
  {
   "cell_type": "code",
   "execution_count": 5,
   "id": "27a4ee25-032d-4000-beb8-9dcfa02199c6",
   "metadata": {},
   "outputs": [
    {
     "name": "stdout",
     "output_type": "stream",
     "text": [
      "[ 0.   0.5  1.   1.5 48.  48.5 49.  59.  69.  79. ]\n"
     ]
    }
   ],
   "source": [
    "x4 = np.array([0,0.5,1,1.5,48,48.5,49,59,69,79])\n",
    "print(x4)"
   ]
  },
  {
   "cell_type": "code",
   "execution_count": 6,
   "id": "e6787f51-ae92-487c-ad05-361fe39fe618",
   "metadata": {},
   "outputs": [
    {
     "name": "stdout",
     "output_type": "stream",
     "text": [
      "Velocidades em m/s:\n",
      "[17.22222222 20.55555556 20.41666667 16.80555556 13.75       11.80555556\n",
      " 10.83333333 12.36111111 16.11111111 17.08333333]\n"
     ]
    }
   ],
   "source": [
    "y4 = np.array([62/3.6,74/3.6,73.5/3.6,60.5/3.6,49.5/3.6,42.5/3.6,39/3.6,44.5/3.6,58/3.6,61.5/3.6])\n",
    "print(f'Velocidades em m/s:\\n{y4}')"
   ]
  },
  {
   "cell_type": "markdown",
   "id": "e641b896-5978-4d08-8da3-6a77cbe56f9d",
   "metadata": {},
   "source": [
    "Para os os tempos de 0 - 1.5 podemos fazer 3/8 de Simpson pois eles tem o mesmo passo"
   ]
  },
  {
   "cell_type": "code",
   "execution_count": 7,
   "id": "d2a7578a-7591-440d-ae5a-cf68c0a9b6fe",
   "metadata": {},
   "outputs": [
    {
     "name": "stdout",
     "output_type": "stream",
     "text": [
      "79.671875\n"
     ]
    }
   ],
   "source": [
    "integral1 = simpson38 (x4[0],x4[1],x4[2],x4[3],y4[0],y4[1],y4[2],x4[3])\n",
    "print(integral1)"
   ]
  },
  {
   "cell_type": "markdown",
   "id": "d7d91e64-fbd6-4133-8d4a-73bac114b792",
   "metadata": {},
   "source": [
    "Para os os tempos de 1.5 - 48 temos que fazer por Trapézio"
   ]
  },
  {
   "cell_type": "code",
   "execution_count": 8,
   "id": "ebfbc946-7914-437c-beab-1689f2544d2d",
   "metadata": {},
   "outputs": [
    {
     "name": "stdout",
     "output_type": "stream",
     "text": [
      "1506.7291666666667\n"
     ]
    }
   ],
   "source": [
    "integral2 = trapezio (x4[3],x4[4],y4[3],x4[4])\n",
    "print(integral2)"
   ]
  },
  {
   "cell_type": "markdown",
   "id": "bd8a13b9-96b7-4352-9efa-805b420dea63",
   "metadata": {},
   "source": [
    "Para os os tempos de 48 - 49 temos que fazer por 1/3 de Simpson"
   ]
  },
  {
   "cell_type": "code",
   "execution_count": 9,
   "id": "828e3020-ff12-4bbe-aa9f-30fc51e9c4b0",
   "metadata": {},
   "outputs": [
    {
     "name": "stdout",
     "output_type": "stream",
     "text": [
      "598.3796296296297\n"
     ]
    }
   ],
   "source": [
    "integral3 = simpson13 (x4[4],x4[5],x4[6],y4[4],y4[5],y4[6])\n",
    "print(integral3)"
   ]
  },
  {
   "cell_type": "markdown",
   "id": "f535318c-b638-4d6e-a6e4-e284c3f1b818",
   "metadata": {},
   "source": [
    "Para os os tempos de 49 - 79 podemos fazer por 3/8 de Simpson"
   ]
  },
  {
   "cell_type": "code",
   "execution_count": 10,
   "id": "bf2a1229-249a-42d6-bdda-d2662898e9b9",
   "metadata": {},
   "outputs": [
    {
     "name": "stdout",
     "output_type": "stream",
     "text": [
      "4118.375\n"
     ]
    }
   ],
   "source": [
    "integral4 = simpson38 (x4[6],x4[7],x4[8],x4[9],y4[6],y4[7],y4[8],x4[9])\n",
    "print(integral4)"
   ]
  },
  {
   "cell_type": "markdown",
   "id": "3652dcce-bff8-4f63-8402-7aeca737f2cd",
   "metadata": {},
   "source": [
    "Comprimento total da pista:"
   ]
  },
  {
   "cell_type": "code",
   "execution_count": 16,
   "id": "fdf3679f-a6d9-4fb1-9331-9ca182390cc1",
   "metadata": {},
   "outputs": [
    {
     "name": "stdout",
     "output_type": "stream",
     "text": [
      "Comprimento total da Pista em metros: 6303.15567129629650.2fm\n"
     ]
    }
   ],
   "source": [
    "comprimento = integral1+integral2+integral3+integral4\n",
    "print(f'Comprimento total da Pista em metros: {comprimento}0.2fm')"
   ]
  },
  {
   "cell_type": "markdown",
   "id": "ec525443-278a-4df0-aede-7b82c61056bc",
   "metadata": {},
   "source": [
    "<h1>Questão 3</h1> "
   ]
  },
  {
   "cell_type": "code",
   "execution_count": 12,
   "id": "743fc767-bc08-4df9-b6a3-2f0683a33b0f",
   "metadata": {},
   "outputs": [],
   "source": [
    "def poli_lagrange(valor,x,y):\n",
    "    soma = 0\n",
    "    for i in range(0,len(y)):\n",
    "        produtorio1 = 1\n",
    "        produtorio2 = 1\n",
    "        for j in range(0,len(x)):\n",
    "            if j != i:\n",
    "                produtorio1 = (valor-x[j]) * produtorio1\n",
    "                produtorio2 = (x[i] - x[j]) * produtorio2\n",
    "        prodt = produtorio1/produtorio2\n",
    "        soma += prodt*y[i]\n",
    "    return soma"
   ]
  },
  {
   "cell_type": "code",
   "execution_count": 13,
   "id": "dc6c6c45-e4e5-42e5-89db-a1759c12d56c",
   "metadata": {},
   "outputs": [],
   "source": [
    "x3 = np.array([0,5,10,20,30,40])\n",
    "y3 = np.array([1.787,1.519,1.307,1.002,0.7975,0.6529])"
   ]
  },
  {
   "cell_type": "markdown",
   "id": "0d43c331-2de9-4304-bf07-436e28c210ac",
   "metadata": {},
   "source": [
    "<h2>Item a)</h2>"
   ]
  },
  {
   "cell_type": "code",
   "execution_count": 14,
   "id": "b77b70b3-6974-42c9-9085-addef73cec39",
   "metadata": {},
   "outputs": [
    {
     "name": "stdout",
     "output_type": "stream",
     "text": [
      "Valor de u em T=7.5 graus: 1.4068632289341518ºC\n"
     ]
    }
   ],
   "source": [
    "T = poli_lagrange(7.5,x3,y3)\n",
    "print(f'Valor de u em T=7.5 graus: {T}ºC')"
   ]
  },
  {
   "cell_type": "markdown",
   "id": "758f30ca-54f0-4bc8-8d8c-beac3ad4c14e",
   "metadata": {},
   "source": [
    "<h2>Item b)</h2>"
   ]
  },
  {
   "cell_type": "code",
   "execution_count": 15,
   "id": "397f1bec-ce4a-4ceb-a6ba-7793d0b2eae2",
   "metadata": {},
   "outputs": [
    {
     "data": {
      "image/png": "[encoded data removed]",
      "text/plain": [
       "<Figure size 640x480 with 1 Axes>"
      ]
     },
     "metadata": {},
     "output_type": "display_data"
    }
   ],
   "source": [
    "xx = np.linspace(x3[0],x3[-1],1000)\n",
    "yy = []\n",
    "for i in xx:\n",
    "    yy.append(poli_lagrange(i,x3,y3))\n",
    "plt.grid(True)\n",
    "plt.plot(x3, y3,'o', color = 'green', label = 'Pontos da Tabela')\n",
    "plt.plot(xx, yy, color = 'blue', label = 'Polinomio Interpolador')\n",
    "plt.scatter(7.5, T, color = 'orange', label = 'Ponto do item a')\n",
    "plt.legend()\n",
    "plt.show()"
   ]
  }
 ],
 "metadata": {
  "kernelspec": {
   "display_name": "Python 3 (ipykernel)",
   "language": "python",
   "name": "python3"
  },
  "language_info": {
   "codemirror_mode": {
    "name": "ipython",
    "version": 3
   },
   "file_extension": ".py",
   "mimetype": "text/x-python",
   "name": "python",
   "nbconvert_exporter": "python",
   "pygments_lexer": "ipython3",
   "version": "3.10.9"
  }
 },
 "nbformat": 4,
 "nbformat_minor": 5
}
